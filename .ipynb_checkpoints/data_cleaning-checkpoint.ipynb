{
 "cells": [
  {
   "cell_type": "code",
   "execution_count": 1,
   "metadata": {},
   "outputs": [],
   "source": [
    "import pandas as pd\n",
    "import os\n",
    "# import re"
   ]
  },
  {
   "cell_type": "code",
   "execution_count": null,
   "metadata": {},
   "outputs": [],
   "source": []
  },
  {
   "cell_type": "code",
   "execution_count": 2,
   "metadata": {},
   "outputs": [
    {
     "data": {
      "text/plain": [
       "'/home/sjham/project/scrapy/MyProject/data_set'"
      ]
     },
     "execution_count": 2,
     "metadata": {},
     "output_type": "execute_result"
    }
   ],
   "source": [
    "os.getcwd()"
   ]
  },
  {
   "cell_type": "code",
   "execution_count": 3,
   "metadata": {},
   "outputs": [],
   "source": [
    "from IPython.core.interactiveshell import InteractiveShell\n",
    "InteractiveShell.ast_node_interactivity = \"all\""
   ]
  },
  {
   "cell_type": "code",
   "execution_count": 4,
   "metadata": {},
   "outputs": [],
   "source": [
    "# data = pd.read_excel('broadcast.xlsx') \n",
    "data = pd.read_csv('a1.csv') \n",
    "raw_data = pd.read_csv('b.csv')"
   ]
  },
  {
   "cell_type": "code",
   "execution_count": 5,
   "metadata": {
    "scrolled": true
   },
   "outputs": [
    {
     "data": {
      "text/html": [
       "<div>\n",
       "<style scoped>\n",
       "    .dataframe tbody tr th:only-of-type {\n",
       "        vertical-align: middle;\n",
       "    }\n",
       "\n",
       "    .dataframe tbody tr th {\n",
       "        vertical-align: top;\n",
       "    }\n",
       "\n",
       "    .dataframe thead th {\n",
       "        text-align: right;\n",
       "    }\n",
       "</style>\n",
       "<table border=\"1\" class=\"dataframe\">\n",
       "  <thead>\n",
       "    <tr style=\"text-align: right;\">\n",
       "      <th></th>\n",
       "      <th>date</th>\n",
       "      <th>title</th>\n",
       "    </tr>\n",
       "  </thead>\n",
       "  <tbody>\n",
       "    <tr>\n",
       "      <th>2451</th>\n",
       "      <td>4/12</td>\n",
       "      <td>투표날 '조심'</td>\n",
       "    </tr>\n",
       "    <tr>\n",
       "      <th>2452</th>\n",
       "      <td>4/12</td>\n",
       "      <td>새로운 국회 탄생해야</td>\n",
       "    </tr>\n",
       "    <tr>\n",
       "      <th>2453</th>\n",
       "      <td>4/12</td>\n",
       "      <td>MBN선정 승패 가를 20곳…서울</td>\n",
       "    </tr>\n",
       "    <tr>\n",
       "      <th>2454</th>\n",
       "      <td>4/12</td>\n",
       "      <td>MBN선정 승패 가를 20곳…수도권</td>\n",
       "    </tr>\n",
       "    <tr>\n",
       "      <th>2455</th>\n",
       "      <td>4/12</td>\n",
       "      <td>MBN선정 승패 가를 20곳</td>\n",
       "    </tr>\n",
       "  </tbody>\n",
       "</table>\n",
       "</div>"
      ],
      "text/plain": [
       "      date                title\n",
       "2451  4/12             투표날 '조심'\n",
       "2452  4/12          새로운 국회 탄생해야\n",
       "2453  4/12   MBN선정 승패 가를 20곳…서울\n",
       "2454  4/12  MBN선정 승패 가를 20곳…수도권\n",
       "2455  4/12      MBN선정 승패 가를 20곳"
      ]
     },
     "execution_count": 5,
     "metadata": {},
     "output_type": "execute_result"
    },
    {
     "data": {
      "text/html": [
       "<div>\n",
       "<style scoped>\n",
       "    .dataframe tbody tr th:only-of-type {\n",
       "        vertical-align: middle;\n",
       "    }\n",
       "\n",
       "    .dataframe tbody tr th {\n",
       "        vertical-align: top;\n",
       "    }\n",
       "\n",
       "    .dataframe thead th {\n",
       "        text-align: right;\n",
       "    }\n",
       "</style>\n",
       "<table border=\"1\" class=\"dataframe\">\n",
       "  <thead>\n",
       "    <tr style=\"text-align: right;\">\n",
       "      <th></th>\n",
       "      <th>title</th>\n",
       "      <th>date</th>\n",
       "    </tr>\n",
       "  </thead>\n",
       "  <tbody>\n",
       "    <tr>\n",
       "      <th>0</th>\n",
       "      <td>위반 차량 꼼짝 마!…‘암행 단속’ 시작</td>\n",
       "      <td>2016.03.02 02:42</td>\n",
       "    </tr>\n",
       "    <tr>\n",
       "      <th>1</th>\n",
       "      <td>제주 어선·부산 낚싯배 침몰</td>\n",
       "      <td>2016.03.02 02:43</td>\n",
       "    </tr>\n",
       "    <tr>\n",
       "      <th>2</th>\n",
       "      <td>취객 돕는 척 ‘슬쩍’…출근한다며 빈집털이</td>\n",
       "      <td>2016.03.02 02:43</td>\n",
       "    </tr>\n",
       "    <tr>\n",
       "      <th>3</th>\n",
       "      <td>‘김정은 찬양가’ 재등장…北 체제 결속 ‘고삐’</td>\n",
       "      <td>2016.03.02 02:43</td>\n",
       "    </tr>\n",
       "    <tr>\n",
       "      <th>4</th>\n",
       "      <td>내일 새벽 ‘안보리 표결’…“만장일치 확실”</td>\n",
       "      <td>2016.03.02 02:43</td>\n",
       "    </tr>\n",
       "  </tbody>\n",
       "</table>\n",
       "</div>"
      ],
      "text/plain": [
       "                        title              date\n",
       "0      위반 차량 꼼짝 마!…‘암행 단속’ 시작  2016.03.02 02:42\n",
       "1             제주 어선·부산 낚싯배 침몰  2016.03.02 02:43\n",
       "2     취객 돕는 척 ‘슬쩍’…출근한다며 빈집털이  2016.03.02 02:43\n",
       "3  ‘김정은 찬양가’ 재등장…北 체제 결속 ‘고삐’  2016.03.02 02:43\n",
       "4    내일 새벽 ‘안보리 표결’…“만장일치 확실”  2016.03.02 02:43"
      ]
     },
     "execution_count": 5,
     "metadata": {},
     "output_type": "execute_result"
    }
   ],
   "source": [
    "data.tail()\n",
    "raw_data.head()"
   ]
  },
  {
   "cell_type": "code",
   "execution_count": 6,
   "metadata": {},
   "outputs": [
    {
     "data": {
      "text/plain": [
       "(2456, 2)"
      ]
     },
     "execution_count": 6,
     "metadata": {},
     "output_type": "execute_result"
    },
    {
     "data": {
      "text/plain": [
       "(12926, 2)"
      ]
     },
     "execution_count": 6,
     "metadata": {},
     "output_type": "execute_result"
    }
   ],
   "source": [
    "data.shape\n",
    "raw_data.shape"
   ]
  },
  {
   "cell_type": "code",
   "execution_count": 7,
   "metadata": {
    "scrolled": true
   },
   "outputs": [],
   "source": [
    "raw_data['date'] = pd.to_datetime(raw_data['date'])"
   ]
  },
  {
   "cell_type": "code",
   "execution_count": 8,
   "metadata": {},
   "outputs": [],
   "source": [
    "raw_data['date'] = raw_data['date'].dt.date"
   ]
  },
  {
   "cell_type": "code",
   "execution_count": 9,
   "metadata": {
    "scrolled": true
   },
   "outputs": [
    {
     "data": {
      "text/plain": [
       "0        2016-03-02\n",
       "1        2016-03-02\n",
       "2        2016-03-02\n",
       "3        2016-03-02\n",
       "4        2016-03-02\n",
       "5        2016-03-02\n",
       "6        2016-03-02\n",
       "7        2016-03-02\n",
       "8        2016-03-02\n",
       "9        2016-03-02\n",
       "10       2016-03-02\n",
       "11       2016-03-02\n",
       "12       2016-03-02\n",
       "13       2016-03-02\n",
       "14       2016-03-02\n",
       "15       2016-03-02\n",
       "16       2016-03-02\n",
       "17       2016-03-02\n",
       "18       2016-03-02\n",
       "19       2016-03-02\n",
       "20       2016-03-02\n",
       "21       2016-03-02\n",
       "22       2016-03-02\n",
       "23       2016-03-02\n",
       "24       2016-03-02\n",
       "25       2016-03-02\n",
       "26       2016-03-02\n",
       "27       2016-03-02\n",
       "28       2016-03-02\n",
       "29       2016-03-02\n",
       "            ...    \n",
       "12896    2016-04-12\n",
       "12897    2016-04-12\n",
       "12898    2016-04-12\n",
       "12899    2016-04-12\n",
       "12900    2016-04-12\n",
       "12901    2016-04-12\n",
       "12902    2016-04-12\n",
       "12903    2016-04-12\n",
       "12904    2016-04-12\n",
       "12905    2016-04-12\n",
       "12906    2016-04-12\n",
       "12907    2016-04-12\n",
       "12908    2016-04-12\n",
       "12909    2016-04-12\n",
       "12910    2016-04-12\n",
       "12911    2016-04-12\n",
       "12912    2016-04-12\n",
       "12913    2016-04-12\n",
       "12914    2016-04-12\n",
       "12915    2016-04-12\n",
       "12916    2016-04-12\n",
       "12917    2016-04-12\n",
       "12918    2016-04-12\n",
       "12919    2016-04-12\n",
       "12920    2016-04-12\n",
       "12921    2016-04-12\n",
       "12922    2016-04-12\n",
       "12923    2016-04-12\n",
       "12924    2016-04-12\n",
       "12925    2016-04-12\n",
       "Name: date, Length: 12926, dtype: object"
      ]
     },
     "execution_count": 9,
     "metadata": {},
     "output_type": "execute_result"
    }
   ],
   "source": [
    "raw_data['date']"
   ]
  },
  {
   "cell_type": "code",
   "execution_count": 10,
   "metadata": {
    "scrolled": true
   },
   "outputs": [
    {
     "data": {
      "text/plain": [
       "0        2016.3/2\n",
       "1        2016.3/2\n",
       "2        2016.3/2\n",
       "3        2016.3/3\n",
       "4        2016.3/3\n",
       "5        2016.3/3\n",
       "6        2016.3/4\n",
       "7        2016.3/4\n",
       "8        2016.3/4\n",
       "9        2016.3/5\n",
       "10       2016.3/5\n",
       "11       2016.3/6\n",
       "12       2016.3/6\n",
       "13       2016.3/7\n",
       "14       2016.3/7\n",
       "15       2016.3/9\n",
       "16      2016.3/10\n",
       "17      2016.3/10\n",
       "18      2016.3/11\n",
       "19      2016.3/11\n",
       "20      2016.3/12\n",
       "21      2016.3/12\n",
       "22      2016.3/13\n",
       "23      2016.3/13\n",
       "24      2016.3/13\n",
       "25      2016.3/13\n",
       "26      2016.3/14\n",
       "27      2016.3/14\n",
       "28      2016.3/14\n",
       "29      2016.3/14\n",
       "          ...    \n",
       "2426    2016.4/10\n",
       "2427    2016.4/10\n",
       "2428    2016.4/10\n",
       "2429    2016.4/11\n",
       "2430    2016.4/11\n",
       "2431    2016.4/11\n",
       "2432    2016.4/11\n",
       "2433    2016.4/11\n",
       "2434    2016.4/11\n",
       "2435    2016.4/11\n",
       "2436    2016.4/11\n",
       "2437    2016.4/11\n",
       "2438    2016.4/11\n",
       "2439    2016.4/11\n",
       "2440    2016.4/11\n",
       "2441    2016.4/12\n",
       "2442    2016.4/12\n",
       "2443    2016.4/12\n",
       "2444    2016.4/12\n",
       "2445    2016.4/12\n",
       "2446    2016.4/12\n",
       "2447    2016.4/12\n",
       "2448    2016.4/12\n",
       "2449    2016.4/12\n",
       "2450    2016.4/12\n",
       "2451    2016.4/12\n",
       "2452    2016.4/12\n",
       "2453    2016.4/12\n",
       "2454    2016.4/12\n",
       "2455    2016.4/12\n",
       "Name: date, Length: 2456, dtype: object"
      ]
     },
     "execution_count": 10,
     "metadata": {},
     "output_type": "execute_result"
    }
   ],
   "source": [
    "data['date'] = '2016.' + data['date'].astype(str)\n",
    "data['date']"
   ]
  },
  {
   "cell_type": "code",
   "execution_count": 11,
   "metadata": {
    "scrolled": true
   },
   "outputs": [],
   "source": [
    "data['date'] = data['date'].str.replace('/', '.').str.replace('-', '.')\n",
    " "
   ]
  },
  {
   "cell_type": "code",
   "execution_count": 12,
   "metadata": {},
   "outputs": [],
   "source": [
    "data['date']= pd.to_datetime(data['date'])"
   ]
  },
  {
   "cell_type": "code",
   "execution_count": 13,
   "metadata": {},
   "outputs": [
    {
     "data": {
      "text/html": [
       "<div>\n",
       "<style scoped>\n",
       "    .dataframe tbody tr th:only-of-type {\n",
       "        vertical-align: middle;\n",
       "    }\n",
       "\n",
       "    .dataframe tbody tr th {\n",
       "        vertical-align: top;\n",
       "    }\n",
       "\n",
       "    .dataframe thead th {\n",
       "        text-align: right;\n",
       "    }\n",
       "</style>\n",
       "<table border=\"1\" class=\"dataframe\">\n",
       "  <thead>\n",
       "    <tr style=\"text-align: right;\">\n",
       "      <th></th>\n",
       "      <th>date</th>\n",
       "      <th>title</th>\n",
       "    </tr>\n",
       "  </thead>\n",
       "  <tbody>\n",
       "    <tr>\n",
       "      <th>0</th>\n",
       "      <td>2016-03-02</td>\n",
       "      <td>무제한 토론' 끝…테러방지법 등 곧 처리</td>\n",
       "    </tr>\n",
       "    <tr>\n",
       "      <th>1</th>\n",
       "      <td>2016-03-02</td>\n",
       "      <td>\"야권 통합\"…국민의당 '경계'∙與 '비판'</td>\n",
       "    </tr>\n",
       "    <tr>\n",
       "      <th>2</th>\n",
       "      <td>2016-03-02</td>\n",
       "      <td>박지원∙동교동계 국민의당 '합류'</td>\n",
       "    </tr>\n",
       "    <tr>\n",
       "      <th>3</th>\n",
       "      <td>2016-03-03</td>\n",
       "      <td>선거법 지각 통과…총선 준비 '잰걸음'</td>\n",
       "    </tr>\n",
       "    <tr>\n",
       "      <th>4</th>\n",
       "      <td>2016-03-03</td>\n",
       "      <td>與 공천 일정 신경전…\"서둘러야\" \"꼼꼼히\"</td>\n",
       "    </tr>\n",
       "  </tbody>\n",
       "</table>\n",
       "</div>"
      ],
      "text/plain": [
       "        date                     title\n",
       "0 2016-03-02    무제한 토론' 끝…테러방지법 등 곧 처리\n",
       "1 2016-03-02  \"야권 통합\"…국민의당 '경계'∙與 '비판'\n",
       "2 2016-03-02        박지원∙동교동계 국민의당 '합류'\n",
       "3 2016-03-03     선거법 지각 통과…총선 준비 '잰걸음'\n",
       "4 2016-03-03  與 공천 일정 신경전…\"서둘러야\" \"꼼꼼히\""
      ]
     },
     "execution_count": 13,
     "metadata": {},
     "output_type": "execute_result"
    },
    {
     "data": {
      "text/html": [
       "<div>\n",
       "<style scoped>\n",
       "    .dataframe tbody tr th:only-of-type {\n",
       "        vertical-align: middle;\n",
       "    }\n",
       "\n",
       "    .dataframe tbody tr th {\n",
       "        vertical-align: top;\n",
       "    }\n",
       "\n",
       "    .dataframe thead th {\n",
       "        text-align: right;\n",
       "    }\n",
       "</style>\n",
       "<table border=\"1\" class=\"dataframe\">\n",
       "  <thead>\n",
       "    <tr style=\"text-align: right;\">\n",
       "      <th></th>\n",
       "      <th>title</th>\n",
       "      <th>date</th>\n",
       "    </tr>\n",
       "  </thead>\n",
       "  <tbody>\n",
       "    <tr>\n",
       "      <th>0</th>\n",
       "      <td>위반 차량 꼼짝 마!…‘암행 단속’ 시작</td>\n",
       "      <td>2016-03-02</td>\n",
       "    </tr>\n",
       "    <tr>\n",
       "      <th>1</th>\n",
       "      <td>제주 어선·부산 낚싯배 침몰</td>\n",
       "      <td>2016-03-02</td>\n",
       "    </tr>\n",
       "    <tr>\n",
       "      <th>2</th>\n",
       "      <td>취객 돕는 척 ‘슬쩍’…출근한다며 빈집털이</td>\n",
       "      <td>2016-03-02</td>\n",
       "    </tr>\n",
       "    <tr>\n",
       "      <th>3</th>\n",
       "      <td>‘김정은 찬양가’ 재등장…北 체제 결속 ‘고삐’</td>\n",
       "      <td>2016-03-02</td>\n",
       "    </tr>\n",
       "    <tr>\n",
       "      <th>4</th>\n",
       "      <td>내일 새벽 ‘안보리 표결’…“만장일치 확실”</td>\n",
       "      <td>2016-03-02</td>\n",
       "    </tr>\n",
       "  </tbody>\n",
       "</table>\n",
       "</div>"
      ],
      "text/plain": [
       "                        title        date\n",
       "0      위반 차량 꼼짝 마!…‘암행 단속’ 시작  2016-03-02\n",
       "1             제주 어선·부산 낚싯배 침몰  2016-03-02\n",
       "2     취객 돕는 척 ‘슬쩍’…출근한다며 빈집털이  2016-03-02\n",
       "3  ‘김정은 찬양가’ 재등장…北 체제 결속 ‘고삐’  2016-03-02\n",
       "4    내일 새벽 ‘안보리 표결’…“만장일치 확실”  2016-03-02"
      ]
     },
     "execution_count": 13,
     "metadata": {},
     "output_type": "execute_result"
    }
   ],
   "source": [
    "data.head()\n",
    "raw_data.head()"
   ]
  },
  {
   "cell_type": "code",
   "execution_count": 14,
   "metadata": {
    "scrolled": true
   },
   "outputs": [],
   "source": [
    "data['title_refined'] = data.title.str.replace(r'[/W\\”\\“\\‘\\,\\’\\\"\\'\\.\\∙\\…\\[\\]\\(\\)]+', \" \")\n",
    "raw_data['title_refined']= raw_data.title.str.replace(r'[/W\\”\\“\\‘\\,\\’\\\"\\'\\.\\∙\\…\\[\\]\\(\\)]+', \" \")"
   ]
  },
  {
   "cell_type": "code",
   "execution_count": 15,
   "metadata": {},
   "outputs": [],
   "source": [
    "data['title_refined'] = data['title_refined'].str.strip()\n",
    "raw_data['title_refined'] = raw_data['title_refined'].str.strip()"
   ]
  },
  {
   "cell_type": "code",
   "execution_count": 16,
   "metadata": {
    "scrolled": true
   },
   "outputs": [
    {
     "data": {
      "text/plain": [
       "date              0\n",
       "title            14\n",
       "title_refined    14\n",
       "dtype: int64"
      ]
     },
     "execution_count": 16,
     "metadata": {},
     "output_type": "execute_result"
    },
    {
     "data": {
      "text/plain": [
       "title            0\n",
       "date             0\n",
       "title_refined    0\n",
       "dtype: int64"
      ]
     },
     "execution_count": 16,
     "metadata": {},
     "output_type": "execute_result"
    }
   ],
   "source": [
    "data.isnull().sum()\n",
    "raw_data.isnull().sum()"
   ]
  },
  {
   "cell_type": "code",
   "execution_count": 17,
   "metadata": {},
   "outputs": [
    {
     "data": {
      "text/html": [
       "<div>\n",
       "<style scoped>\n",
       "    .dataframe tbody tr th:only-of-type {\n",
       "        vertical-align: middle;\n",
       "    }\n",
       "\n",
       "    .dataframe tbody tr th {\n",
       "        vertical-align: top;\n",
       "    }\n",
       "\n",
       "    .dataframe thead th {\n",
       "        text-align: right;\n",
       "    }\n",
       "</style>\n",
       "<table border=\"1\" class=\"dataframe\">\n",
       "  <thead>\n",
       "    <tr style=\"text-align: right;\">\n",
       "      <th></th>\n",
       "      <th>date</th>\n",
       "      <th>title</th>\n",
       "      <th>title_refined</th>\n",
       "    </tr>\n",
       "  </thead>\n",
       "  <tbody>\n",
       "    <tr>\n",
       "      <th>0</th>\n",
       "      <td>2016-03-02</td>\n",
       "      <td>무제한 토론' 끝…테러방지법 등 곧 처리</td>\n",
       "      <td>무제한 토론  끝 테러방지법 등 곧 처리</td>\n",
       "    </tr>\n",
       "    <tr>\n",
       "      <th>1</th>\n",
       "      <td>2016-03-02</td>\n",
       "      <td>\"야권 통합\"…국민의당 '경계'∙與 '비판'</td>\n",
       "      <td>야권 통합 국민의당  경계 與  비판</td>\n",
       "    </tr>\n",
       "    <tr>\n",
       "      <th>2</th>\n",
       "      <td>2016-03-02</td>\n",
       "      <td>박지원∙동교동계 국민의당 '합류'</td>\n",
       "      <td>박지원 동교동계 국민의당  합류</td>\n",
       "    </tr>\n",
       "    <tr>\n",
       "      <th>3</th>\n",
       "      <td>2016-03-03</td>\n",
       "      <td>선거법 지각 통과…총선 준비 '잰걸음'</td>\n",
       "      <td>선거법 지각 통과 총선 준비  잰걸음</td>\n",
       "    </tr>\n",
       "    <tr>\n",
       "      <th>4</th>\n",
       "      <td>2016-03-03</td>\n",
       "      <td>與 공천 일정 신경전…\"서둘러야\" \"꼼꼼히\"</td>\n",
       "      <td>與 공천 일정 신경전 서둘러야   꼼꼼히</td>\n",
       "    </tr>\n",
       "  </tbody>\n",
       "</table>\n",
       "</div>"
      ],
      "text/plain": [
       "        date                     title           title_refined\n",
       "0 2016-03-02    무제한 토론' 끝…테러방지법 등 곧 처리  무제한 토론  끝 테러방지법 등 곧 처리\n",
       "1 2016-03-02  \"야권 통합\"…국민의당 '경계'∙與 '비판'    야권 통합 국민의당  경계 與  비판\n",
       "2 2016-03-02        박지원∙동교동계 국민의당 '합류'       박지원 동교동계 국민의당  합류\n",
       "3 2016-03-03     선거법 지각 통과…총선 준비 '잰걸음'    선거법 지각 통과 총선 준비  잰걸음\n",
       "4 2016-03-03  與 공천 일정 신경전…\"서둘러야\" \"꼼꼼히\"  與 공천 일정 신경전 서둘러야   꼼꼼히"
      ]
     },
     "execution_count": 17,
     "metadata": {},
     "output_type": "execute_result"
    }
   ],
   "source": [
    "data.head()"
   ]
  },
  {
   "cell_type": "code",
   "execution_count": 18,
   "metadata": {},
   "outputs": [],
   "source": [
    "data.drop('title',axis=1, inplace=True)"
   ]
  },
  {
   "cell_type": "code",
   "execution_count": 19,
   "metadata": {},
   "outputs": [
    {
     "data": {
      "text/plain": [
       "date              0\n",
       "title_refined    14\n",
       "dtype: int64"
      ]
     },
     "execution_count": 19,
     "metadata": {},
     "output_type": "execute_result"
    }
   ],
   "source": [
    "data.isnull().sum()"
   ]
  },
  {
   "cell_type": "code",
   "execution_count": 20,
   "metadata": {},
   "outputs": [],
   "source": [
    "data = data.dropna(subset=['title_refined'],axis=0, how='any')"
   ]
  },
  {
   "cell_type": "code",
   "execution_count": 21,
   "metadata": {
    "scrolled": false
   },
   "outputs": [
    {
     "data": {
      "text/plain": [
       "date             0\n",
       "title_refined    0\n",
       "dtype: int64"
      ]
     },
     "execution_count": 21,
     "metadata": {},
     "output_type": "execute_result"
    }
   ],
   "source": [
    "data.isnull().sum()"
   ]
  },
  {
   "cell_type": "code",
   "execution_count": 22,
   "metadata": {},
   "outputs": [],
   "source": [
    "# def ngrams(string, n=3):\n",
    "# #     string = re.sub(r'[,-./]|\\sBD',r'', string)\n",
    "#     ngrams = zip(*[string[i:] for i in range(n)])\n",
    "#     return [''.join(ngram) for ngram in ngrams]"
   ]
  },
  {
   "cell_type": "code",
   "execution_count": 23,
   "metadata": {},
   "outputs": [],
   "source": [
    "from konlpy.tag import Mecab\n",
    "mecab = Mecab()\n",
    "def tagging(x):\n",
    "    return mecab.nouns(x)\n",
    "#     return x+'1'\n",
    "    "
   ]
  },
  {
   "cell_type": "code",
   "execution_count": 24,
   "metadata": {
    "scrolled": true
   },
   "outputs": [],
   "source": [
    "data['title_tagged'] = data['title_refined'].apply(tagging)"
   ]
  },
  {
   "cell_type": "code",
   "execution_count": 25,
   "metadata": {
    "scrolled": true
   },
   "outputs": [],
   "source": [
    "data['title_set']= [set(item) for item in data['title_tagged']]"
   ]
  },
  {
   "cell_type": "code",
   "execution_count": 26,
   "metadata": {},
   "outputs": [],
   "source": [
    "raw_data.drop('title', axis=1, inplace=True)"
   ]
  },
  {
   "cell_type": "code",
   "execution_count": 27,
   "metadata": {},
   "outputs": [],
   "source": [
    "raw_data['title_tagged'] = raw_data['title_refined'].apply(tagging)"
   ]
  },
  {
   "cell_type": "code",
   "execution_count": 28,
   "metadata": {},
   "outputs": [],
   "source": [
    "raw_data['title_set']= [set(item) for item in raw_data['title_tagged']]"
   ]
  },
  {
   "cell_type": "code",
   "execution_count": 29,
   "metadata": {
    "scrolled": false
   },
   "outputs": [
    {
     "data": {
      "text/plain": [
       "0                            {위반, 단속, 차량, 시작, 암행}\n",
       "1                           {침몰, 낚싯배, 부산, 제주, 어선}\n",
       "2                               {취객, 척, 집, 출근, 털}\n",
       "3                    {찬양, 체제, 北, 결속, 고삐, 등장, 김정은}\n",
       "4                             {표결, 안보리, 만장일치, 새벽}\n",
       "5                        {비판, 국회, 합의, 日, 위안부, 실천}\n",
       "6                                  {포기, 북한, 것, 핵}\n",
       "7                                    {뉴스라인, 헤드라인}\n",
       "8                     {조사, 량, 남극, 크릴, 선, 원양어, 자원}\n",
       "9              {본격, 공급, 천, 가구, 만, 올해, 주택, 행복, 모집}\n",
       "10                    {금정구, 식당, 화재, 만, 원, 부산, 피해}\n",
       "11               {수사, 페이스북, 비협조, 임원, 체포, 브라질, 경찰}\n",
       "12                   {장, 추방, 미국, 축구, 협회, 전, 과테말라}\n",
       "13                           {대, 대부도, 안산, 여성, 주택}\n",
       "14                   {억, 알라, 사재, 원, 빈라덴, 유언, 지하드}\n",
       "15                 {칼레, 이틀, 프랑스, 난민, 난민촌, 철거, 저항}\n",
       "16            {총장, 반, 대북, 등, 결의안, 대사, 외무부, 미, 논의}\n",
       "17                             {트럼프, 취약, 본선, 경쟁력}\n",
       "18                            {기온, 안팎, 도, 낮, 남서풍}\n",
       "19                   {강원, 노인, 소동, 명, 요양원, 영월, 대피}\n",
       "20           {인자, 경고, 단체, 공개, 공화, 美, 거부, 편견, 트럼프}\n",
       "21            {산, 동결, 상승, 국제, 기대, 가격, 유가, 회복, 유량}\n",
       "22       {해외, 요구, 급유, 北, 결의안, 수정, 허용, 안보리, 기, 민항}\n",
       "23                {시범, 타수, 김현수, 무안타, 메이저, 리그, 경기}\n",
       "24              {시범, 김현수, 박병호, 야수, 위, 주목, 신인, 경기}\n",
       "25                        {보복, 입건, 쌍방, 명, 혐의, 운전}\n",
       "26            {대통령, 상관, 합헌, 군형법, 규정, 비하, 모욕죄, 헌재}\n",
       "27              {계속, 신청, 법원, 거부, 트럼프, 소송, 기각, 사기}\n",
       "28                        {힐러리, 클린턴, 실망, 트럼프, 논란}\n",
       "29                      {무승부, 이청용, 결장, 선덜랜드, 팰리스}\n",
       "                           ...                   \n",
       "12896                         {저지, 누리, 민주, 표, 독주}\n",
       "12897                    {심판, 수도, 총력, 누리, 공략, 야당}\n",
       "12898                   {발표, 예상, 출구조사, 시, 당선, 오후}\n",
       "12899                       {총망라, 개표, 기술, 방송, 첨단}\n",
       "12900                    {손동작, 투표용지, 인증, 샷, 주, 점}\n",
       "12901                      {투, 개표, 선택, 날, 완료, 준비}\n",
       "12902                       {총망라, 개표, 기술, 방송, 첨단}\n",
       "12903                {선거, 민생, 국회, 개입, 탄생, 매진, 경제}\n",
       "12904      {배격, 북한, 대화, 해법, 국제, 평등, 핵, 사회, 북, 논의}\n",
       "12905          {조, 기업, 미국, 중국, 규모, 천억, 원, 개, 지난해}\n",
       "12906         {시간, 대장정, 판세, 총선, 뉴스, 이슈, 이모저모, 막판}\n",
       "12907                             {신생아, 대한민국, 노령}\n",
       "12908         {예고, 전단지, 현수막, 치열, 변호사, 경쟁, 등장, 생존}\n",
       "12909                    {촬영, 금, 훼손, 자연, 전시회, 강송}\n",
       "12910           {소변, 예고, 리포트, 검사, 심층, 퇴사, 혈액, 압력}\n",
       "12911                    {리포트, 신생아, 앵커, 대한민국, 노령}\n",
       "12912                     {도발, 교란, 北, 안보리, 등, 서한}\n",
       "12913                                 {황사, 전국, 듯}\n",
       "12914               {위협, 전대미문, 北, 조치, 특단, 납치, 징벌}\n",
       "12915                     {공개, 북풍, 정치, 논란, 공방, 북}\n",
       "12916                {인기, 후예, 전기, 급상승, 효과, 앱, 태양}\n",
       "12917                        {수도, 총력, 집중, 총선, 야권}\n",
       "12918                           {미세먼지, 농, 오전, 황사}\n",
       "12919                            {오늘, 배트, 소사, 영상}\n",
       "12920                 {축구단, 축구, 스포츠, 꿈, 나, 라이베리아}\n",
       "12921        {공격, 폭탄, 간부, 사망, 차량, 레바논, 팔레스타인, 남부}\n",
       "12922       {조, 내년, 日, 천, 푼, 마이너스, 원, 성장, 전망, 경제}\n",
       "12923                         {내년, 성장, 올해, 전망, 韓}\n",
       "12924                        {대, 조립식, 노인, 화재, 주택}\n",
       "12925               {발사, 이동식, 탄도, 조짐, 미사일, 북, 준비}\n",
       "Name: title_set, Length: 12926, dtype: object"
      ]
     },
     "execution_count": 29,
     "metadata": {},
     "output_type": "execute_result"
    }
   ],
   "source": [
    "raw_data['title_set']"
   ]
  },
  {
   "cell_type": "code",
   "execution_count": 30,
   "metadata": {
    "scrolled": false
   },
   "outputs": [
    {
     "data": {
      "text/plain": [
       "0        {토론, 처리, 방지법, 등, 무제한, 테러, 끝}\n",
       "1          {비판, 당, 국민, 與, 야권, 통합, 경계}\n",
       "2               {합류, 당, 박지원, 국민, 동교동}\n",
       "3          {총선, 선거법, 잰걸음, 지각, 통과, 준비}\n",
       "4                    {신경전, 與, 공천, 일정}\n",
       "5                {정면충돌, 金, 야권, 통합, 安}\n",
       "6           {김태환, 신호탄, 친, 탈락, 박, 물갈이}\n",
       "7             {의총, 당, 기로, 국민, 야권, 통합}\n",
       "8                      {이해관계, 통합, 찬반}\n",
       "9         {일, 총선, 다야, 거부, 야권, 통합, 구도}\n",
       "10      {신호탄, 당, 긴장, 현역, 여, 분위기, 물갈이}\n",
       "11             {최경환, 김무성, 면접, 여진, 반발}\n",
       "12           {확인, 노선, 독자, 상실, 安, 자제력}\n",
       "13         {김무성, 신경전, 이한구, 심사, 차, 통과}\n",
       "14        {충돌, 후폭풍, 정면, 金, 야권, 통합, 安}\n",
       "15         {윤상현, 발표, 막말, 파문, 내일, 컷오프}\n",
       "16            {위기, 공천, 계파, 갈등, 與, 파행}\n",
       "17             {청산, 정청래, 명, 부족, 노, 등}\n",
       "18             {발표, 공천, 차, 갈등, 與, 봉합}\n",
       "19            {김한길, 탈락, 전병헌, 사퇴, 오영식}\n",
       "20      {발표, 의원, 명, 공천, 탈락, 차, 현역, 여}\n",
       "21                   {반발, 탈당, 공천, 생각}\n",
       "22              {선거, 공약, 유권자, 혼란, 후보}\n",
       "23      {조짐, 조작, 급증, 배, 흑색선전, 여론, 혼탁}\n",
       "24      {김무성, 파전, 우세, 지역구, 與, 현역, 경선}\n",
       "25           {이해찬, 용퇴, 연대, 安, 민주, 논의}\n",
       "26           {명, 유승민, 결론, 내일, 대구, 현역}\n",
       "27      {이해찬, 좌장, 친, 명, 배제, 현역, 노, 등}\n",
       "28      {담판, 공천, 지도부, 내일, 전원, 야권, 연대}\n",
       "29             {개혁, 공천, 말, 지지부진, 물갈이}\n",
       "                    ...              \n",
       "2426         {전략, 의석수, 결집, 엄살, 여야, 세}\n",
       "2427             {서울, 판세, 접전, 안갯속, 초}\n",
       "2428                  {박빙, 속, 우열, 판세}\n",
       "2429                 {부산, 시간, 제주, 운명}\n",
       "2430                       {앞, 야, 수도}\n",
       "2431                        {호남, 문재인}\n",
       "2432                       {수, 누리, 곳}\n",
       "2433                          {국민, 곳}\n",
       "2434                    {여론, 조사, 격전지}\n",
       "2435                      {당, 핵심, 공약}\n",
       "2436                             {후보}\n",
       "2437                             {누가}\n",
       "2438                        {비방, 몸싸움}\n",
       "2439                          {대, 투표}\n",
       "2440                   {숫자, 명, 총선, 억}\n",
       "2441            {김무성, 수도, 대표, 지원, 올인}\n",
       "2442                             {대구}\n",
       "2443                    {야당, 마지막, 유세}\n",
       "2444                    {승부처, 최다, 지역}\n",
       "2445                         {안갯속, 끝}\n",
       "2446                        {대구, 안갯속}\n",
       "2447                 {차, 문재인, 방문, 광주}\n",
       "2448            {북한, 날씨, 투표율, 변수, 막판}\n",
       "2449                {포인트, 관전, 누리, 총선}\n",
       "2450                {포인트, 관전, 총선, 야권}\n",
       "2451                      {날, 조심, 투표}\n",
       "2452                         {국회, 탄생}\n",
       "2453                  {승패, 선정, 서울, 곳}\n",
       "2454                  {승패, 선정, 수도, 곳}\n",
       "2455                      {승패, 선정, 곳}\n",
       "Name: title_set, Length: 2442, dtype: object"
      ]
     },
     "execution_count": 30,
     "metadata": {},
     "output_type": "execute_result"
    }
   ],
   "source": [
    "data['title_set']"
   ]
  },
  {
   "cell_type": "code",
   "execution_count": null,
   "metadata": {},
   "outputs": [],
   "source": []
  },
  {
   "cell_type": "code",
   "execution_count": 33,
   "metadata": {
    "scrolled": true
   },
   "outputs": [
    {
     "data": {
      "text/html": [
       "<div>\n",
       "<style scoped>\n",
       "    .dataframe tbody tr th:only-of-type {\n",
       "        vertical-align: middle;\n",
       "    }\n",
       "\n",
       "    .dataframe tbody tr th {\n",
       "        vertical-align: top;\n",
       "    }\n",
       "\n",
       "    .dataframe thead th {\n",
       "        text-align: right;\n",
       "    }\n",
       "</style>\n",
       "<table border=\"1\" class=\"dataframe\">\n",
       "  <thead>\n",
       "    <tr style=\"text-align: right;\">\n",
       "      <th></th>\n",
       "      <th>date</th>\n",
       "      <th>title_refined</th>\n",
       "      <th>title_tagged</th>\n",
       "      <th>title_set</th>\n",
       "    </tr>\n",
       "  </thead>\n",
       "  <tbody>\n",
       "    <tr>\n",
       "      <th>0</th>\n",
       "      <td>2016-03-02</td>\n",
       "      <td>무제한 토론  끝 테러방지법 등 곧 처리</td>\n",
       "      <td>[무제한, 토론, 끝, 테러, 방지법, 등, 처리]</td>\n",
       "      <td>{토론, 처리, 방지법, 등, 무제한, 테러, 끝}</td>\n",
       "    </tr>\n",
       "    <tr>\n",
       "      <th>1</th>\n",
       "      <td>2016-03-02</td>\n",
       "      <td>야권 통합 국민의당  경계 與  비판</td>\n",
       "      <td>[야권, 통합, 국민, 당, 경계, 與, 비판]</td>\n",
       "      <td>{비판, 당, 국민, 與, 야권, 통합, 경계}</td>\n",
       "    </tr>\n",
       "    <tr>\n",
       "      <th>2</th>\n",
       "      <td>2016-03-02</td>\n",
       "      <td>박지원 동교동계 국민의당  합류</td>\n",
       "      <td>[박지원, 동교동, 국민, 당, 합류]</td>\n",
       "      <td>{합류, 당, 박지원, 국민, 동교동}</td>\n",
       "    </tr>\n",
       "    <tr>\n",
       "      <th>3</th>\n",
       "      <td>2016-03-03</td>\n",
       "      <td>선거법 지각 통과 총선 준비  잰걸음</td>\n",
       "      <td>[선거법, 지각, 통과, 총선, 준비, 잰걸음]</td>\n",
       "      <td>{총선, 선거법, 잰걸음, 지각, 통과, 준비}</td>\n",
       "    </tr>\n",
       "    <tr>\n",
       "      <th>4</th>\n",
       "      <td>2016-03-03</td>\n",
       "      <td>與 공천 일정 신경전 서둘러야   꼼꼼히</td>\n",
       "      <td>[與, 공천, 일정, 신경전]</td>\n",
       "      <td>{신경전, 與, 공천, 일정}</td>\n",
       "    </tr>\n",
       "  </tbody>\n",
       "</table>\n",
       "</div>"
      ],
      "text/plain": [
       "        date           title_refined                  title_tagged  \\\n",
       "0 2016-03-02  무제한 토론  끝 테러방지법 등 곧 처리  [무제한, 토론, 끝, 테러, 방지법, 등, 처리]   \n",
       "1 2016-03-02    야권 통합 국민의당  경계 與  비판    [야권, 통합, 국민, 당, 경계, 與, 비판]   \n",
       "2 2016-03-02       박지원 동교동계 국민의당  합류         [박지원, 동교동, 국민, 당, 합류]   \n",
       "3 2016-03-03    선거법 지각 통과 총선 준비  잰걸음    [선거법, 지각, 통과, 총선, 준비, 잰걸음]   \n",
       "4 2016-03-03  與 공천 일정 신경전 서둘러야   꼼꼼히              [與, 공천, 일정, 신경전]   \n",
       "\n",
       "                      title_set  \n",
       "0  {토론, 처리, 방지법, 등, 무제한, 테러, 끝}  \n",
       "1    {비판, 당, 국민, 與, 야권, 통합, 경계}  \n",
       "2         {합류, 당, 박지원, 국민, 동교동}  \n",
       "3    {총선, 선거법, 잰걸음, 지각, 통과, 준비}  \n",
       "4              {신경전, 與, 공천, 일정}  "
      ]
     },
     "execution_count": 33,
     "metadata": {},
     "output_type": "execute_result"
    }
   ],
   "source": [
    "data.head()"
   ]
  },
  {
   "cell_type": "code",
   "execution_count": 31,
   "metadata": {
    "scrolled": true
   },
   "outputs": [
    {
     "data": {
      "text/plain": [
       "0        [무제한, 토론, 끝, 테러, 방지법, 등, 처리]\n",
       "1          [야권, 통합, 국민, 당, 경계, 與, 비판]\n",
       "2               [박지원, 동교동, 국민, 당, 합류]\n",
       "3          [선거법, 지각, 통과, 총선, 준비, 잰걸음]\n",
       "4                    [與, 공천, 일정, 신경전]\n",
       "5                [야권, 통합, 金, 安, 정면충돌]\n",
       "6           [친, 박, 김태환, 탈락, 물갈이, 신호탄]\n",
       "7             [야권, 통합, 의총, 국민, 당, 기로]\n",
       "8                      [이해관계, 통합, 찬반]\n",
       "9         [야권, 통합, 거부, 총선, 구도, 일, 다야]\n",
       "10      [여, 현역, 물갈이, 신호탄, 당, 분위기, 긴장]\n",
       "11             [김무성, 최경환, 면접, 반발, 여진]\n",
       "12           [安, 독자, 노선, 확인, 자제력, 상실]\n",
       "13         [김무성, 이한구, 신경전, 차, 심사, 통과]\n",
       "14        [安, 金, 정면, 충돌, 야권, 통합, 후폭풍]\n",
       "15         [윤상현, 막말, 파문, 컷오프, 내일, 발표]\n",
       "16            [계파, 갈등, 與, 공천, 파행, 위기]\n",
       "17             [정청래, 등, 명, 노, 청산, 부족]\n",
       "18             [與, 갈등, 봉합, 차, 공천, 발표]\n",
       "19            [전병헌, 오영식, 탈락, 김한길, 사퇴]\n",
       "20      [여, 차, 공천, 발표, 현역, 의원, 명, 탈락]\n",
       "21                   [탈당, 생각, 공천, 반발]\n",
       "22              [후보, 공약, 선거, 유권자, 혼란]\n",
       "23      [흑색선전, 여론, 조작, 배, 급증, 혼탁, 조짐]\n",
       "24      [김무성, 지역구, 파전, 與, 경선, 현역, 우세]\n",
       "25           [민주, 이해찬, 용퇴, 논의, 安, 연대]\n",
       "26           [대구, 현역, 명, 유승민, 내일, 결론]\n",
       "27      [친, 노, 좌장, 이해찬, 등, 현역, 명, 배제]\n",
       "28      [지도부, 전원, 공천, 야권, 연대, 내일, 담판]\n",
       "29             [말, 공천, 개혁, 물갈이, 지지부진]\n",
       "                    ...              \n",
       "2426         [여야, 의석수, 엄살, 세, 결집, 전략]\n",
       "2427             [판세, 서울, 안갯속, 초, 접전]\n",
       "2428                  [판세, 박빙, 속, 우열]\n",
       "2429                 [운명, 시간, 부산, 제주]\n",
       "2430                       [야, 수도, 앞]\n",
       "2431                        [호남, 문재인]\n",
       "2432                       [누리, 수, 곳]\n",
       "2433                          [국민, 곳]\n",
       "2434                    [여론, 조사, 격전지]\n",
       "2435                      [당, 핵심, 공약]\n",
       "2436                             [후보]\n",
       "2437                             [누가]\n",
       "2438                        [비방, 몸싸움]\n",
       "2439                          [대, 투표]\n",
       "2440                   [명, 억, 숫자, 총선]\n",
       "2441            [김무성, 대표, 수도, 지원, 올인]\n",
       "2442                             [대구]\n",
       "2443                    [야당, 마지막, 유세]\n",
       "2444                    [최다, 지역, 승부처]\n",
       "2445                         [끝, 안갯속]\n",
       "2446                        [안갯속, 대구]\n",
       "2447                 [문재인, 차, 광주, 방문]\n",
       "2448            [막판, 변수, 투표율, 북한, 날씨]\n",
       "2449                [누리, 총선, 관전, 포인트]\n",
       "2450                [야권, 총선, 관전, 포인트]\n",
       "2451                      [투표, 날, 조심]\n",
       "2452                         [국회, 탄생]\n",
       "2453                  [선정, 승패, 곳, 서울]\n",
       "2454                  [선정, 승패, 곳, 수도]\n",
       "2455                      [선정, 승패, 곳]\n",
       "Name: title_tagged, Length: 2442, dtype: object"
      ]
     },
     "execution_count": 31,
     "metadata": {},
     "output_type": "execute_result"
    }
   ],
   "source": [
    "data.title_tagged"
   ]
  },
  {
   "cell_type": "code",
   "execution_count": 32,
   "metadata": {},
   "outputs": [
    {
     "data": {
      "text/plain": [
       "0                            [위반, 차량, 암행, 단속, 시작]\n",
       "1                           [제주, 어선, 부산, 낚싯배, 침몰]\n",
       "2                               [취객, 척, 출근, 집, 털]\n",
       "3                    [김정은, 찬양, 등장, 北, 체제, 결속, 고삐]\n",
       "4                             [새벽, 안보리, 표결, 만장일치]\n",
       "5                        [日, 위안부, 합의, 실천, 국회, 비판]\n",
       "6                                  [북한, 핵, 포기, 것]\n",
       "7                                    [뉴스라인, 헤드라인]\n",
       "8                     [원양어, 선, 남극, 크릴, 자원, 량, 조사]\n",
       "9              [행복, 주택, 공급, 본격, 올해, 만, 천, 가구, 모집]\n",
       "10                    [부산, 금정구, 식당, 화재, 만, 원, 피해]\n",
       "11               [브라질, 경찰, 수사, 비협조, 페이스북, 임원, 체포]\n",
       "12                   [과테말라, 전, 축구, 협회, 장, 미국, 추방]\n",
       "13                           [안산, 대부도, 주택, 대, 여성]\n",
       "14                   [빈라덴, 유언, 사재, 억, 원, 지하드, 알라]\n",
       "15                 [프랑스, 칼레, 난민촌, 이틀, 철거, 난민, 저항]\n",
       "16            [외무부, 반, 총장, 미, 대사, 등, 대북, 결의안, 논의]\n",
       "17                             [트럼프, 본선, 경쟁력, 취약]\n",
       "18                            [남서풍, 낮, 기온, 도, 안팎]\n",
       "19                   [강원, 영월, 노인, 요양원, 명, 대피, 소동]\n",
       "20           [美, 공화, 인자, 편견, 단체, 거부, 트럼프, 공개, 경고]\n",
       "21            [국제, 유가, 가격, 회복, 산, 유량, 동결, 기대, 상승]\n",
       "22       [요구, 안보리, 결의안, 수정, 北, 민항, 기, 해외, 급유, 허용]\n",
       "23                [김현수, 메이저, 리그, 시범, 경기, 타수, 무안타]\n",
       "24           [시범, 경기, 주목, 신인, 야수, 김현수, 위, 박병호, 위]\n",
       "25                        [쌍방, 보복, 운전, 혐의, 명, 입건]\n",
       "26            [헌재, 대통령, 비하, 상관, 모욕죄, 규정, 군형법, 합헌]\n",
       "27         [법원, 트럼프, 사기, 소송, 계속, 트럼프, 기각, 신청, 거부]\n",
       "28                        [힐러리, 클린턴, 논란, 트럼프, 실망]\n",
       "29                      [이청용, 결장, 팰리스, 선덜랜드, 무승부]\n",
       "                           ...                   \n",
       "12896                         [민주, 누리, 독주, 저지, 표]\n",
       "12897                    [누리, 야당, 심판, 수도, 공략, 총력]\n",
       "12898                   [오후, 시, 출구조사, 당선, 예상, 발표]\n",
       "12899                   [개표, 방송, 첨단, 방송, 기술, 총망라]\n",
       "12900                    [투표용지, 손동작, 인증, 샷, 주, 점]\n",
       "12901                      [선택, 날, 투, 개표, 준비, 완료]\n",
       "12902                   [개표, 방송, 첨단, 방송, 기술, 총망라]\n",
       "12903                [민생, 경제, 매진, 국회, 탄생, 선거, 개입]\n",
       "12904      [북한, 국제, 사회, 북, 핵, 해법, 논의, 평등, 대화, 배격]\n",
       "12905          [중국, 지난해, 미국, 기업, 개, 조, 천억, 원, 규모]\n",
       "12906         [이슈, 뉴스, 시간, 대장정, 이모저모, 총선, 막판, 판세]\n",
       "12907                             [신생아, 노령, 대한민국]\n",
       "12908         [전단지, 현수막, 변호사, 등장, 예고, 생존, 경쟁, 치열]\n",
       "12909                [금, 강송, 훼손, 전시회, 자연, 훼손, 촬영]\n",
       "12910           [심층, 리포트, 예고, 혈액, 소변, 검사, 퇴사, 압력]\n",
       "12911                    [앵커, 리포트, 신생아, 노령, 대한민국]\n",
       "12912                     [北, 교란, 도발, 안보리, 등, 서한]\n",
       "12913                                 [전국, 황사, 듯]\n",
       "12914               [北, 전대미문, 납치, 특단, 징벌, 조치, 위협]\n",
       "12915                     [북, 공개, 정치, 북풍, 논란, 공방]\n",
       "12916                [태양, 후예, 효과, 전기, 앱, 인기, 급상승]\n",
       "12917                        [총선, 야권, 수도, 집중, 총력]\n",
       "12918                           [오전, 황사, 미세먼지, 농]\n",
       "12919                            [오늘, 영상, 소사, 배트]\n",
       "12920                 [나, 스포츠, 축구, 꿈, 라이베리아, 축구단]\n",
       "12921        [레바논, 남부, 차량, 폭탄, 공격, 팔레스타인, 간부, 사망]\n",
       "12922       [천, 조, 원, 푼, 日, 경제, 내년, 마이너스, 성장, 전망]\n",
       "12923                         [韓, 올해, 성장, 전망, 내년]\n",
       "12924                        [조립식, 주택, 화재, 대, 노인]\n",
       "12925               [북, 이동식, 탄도, 미사일, 발사, 준비, 조짐]\n",
       "Name: title_tagged, Length: 12926, dtype: object"
      ]
     },
     "execution_count": 32,
     "metadata": {},
     "output_type": "execute_result"
    }
   ],
   "source": [
    "raw_data.title_tagged"
   ]
  },
  {
   "cell_type": "code",
   "execution_count": null,
   "metadata": {},
   "outputs": [],
   "source": [
    "for d in data1['title_tagged']:\n",
    "    for r in raw_data1['title_tagged']:\n",
    "        set(d).intersection(set(r))\n",
    "        \n",
    "# for u in t:\n",
    "#     if len(u) > 1:\n",
    "#         raw_data1['filtered']= u\n",
    "        \n",
    "    \n",
    "        \n",
    "#         a = set(d).intersection(set(r))\n",
    "        \n",
    "                            \n",
    "#         if len(set(d).intersection(set(r)))> 1:\n",
    "#             raw_data1['filtered']=\n",
    "            \n",
    "    \n",
    "    \n",
    "    "
   ]
  },
  {
   "cell_type": "code",
   "execution_count": null,
   "metadata": {},
   "outputs": [],
   "source": [
    "raw_data['title_tagged'].apply(inter)"
   ]
  },
  {
   "cell_type": "code",
   "execution_count": null,
   "metadata": {
    "scrolled": true
   },
   "outputs": [],
   "source": [
    "for d in data1['title_tagged']:\n",
    "    for r in raw_data1['title_tagged']:\n",
    "        if len(set(d).intersection(set(r)))> 1:\n",
    "            raw_data1['filtered'] = r\n",
    "            \n",
    "    \n",
    "#         raw_data['filtered'] = set(data).intersection(set(data1))\n",
    "\n",
    "#         #             raw_data['filtered'] = data\n",
    "        \n",
    "        \n",
    "        \n",
    "        \n",
    "#         if len(data.intersection(data1)) > 3:\n",
    "#             raw_data['filtered'] = data\n",
    "            \n",
    "#             .intersection(data1)\n",
    "        \n",
    "#         if len() > 3:\n",
    "#             raw_data['filtered'] = data\n",
    "            \n",
    "            \n",
    "        \n",
    "        "
   ]
  },
  {
   "cell_type": "code",
   "execution_count": null,
   "metadata": {},
   "outputs": [],
   "source": [
    "raw_data1.head()"
   ]
  },
  {
   "cell_type": "code",
   "execution_count": null,
   "metadata": {},
   "outputs": [],
   "source": [
    "a = set(['위반', '차량', '암행', '단속', '시작'])\n",
    "b = set(['무제한', '위반', '토론', '끝', '테러', '방지법', '등', '처리'])\n",
    "matched = a.intersection(b)\n",
    "print(matched)"
   ]
  },
  {
   "cell_type": "code",
   "execution_count": null,
   "metadata": {
    "scrolled": true
   },
   "outputs": [],
   "source": [
    "data.head()"
   ]
  },
  {
   "cell_type": "code",
   "execution_count": null,
   "metadata": {
    "scrolled": false
   },
   "outputs": [],
   "source": [
    "raw_data.head()"
   ]
  },
  {
   "cell_type": "code",
   "execution_count": null,
   "metadata": {},
   "outputs": [],
   "source": [
    "data['제목_splited'] = [set(str(i).split()) for i in data.제목_refined]\n",
    "raw_data['title_splited'] = [set(str(i).split()) for i in raw_data.title_refined]\n"
   ]
  },
  {
   "cell_type": "code",
   "execution_count": null,
   "metadata": {},
   "outputs": [],
   "source": [
    "matched = set1.intersection(set2)\n",
    "\n",
    "import numpy as np\n",
    "import pandas as pd\n",
    "\n",
    "a = [['10', '1.2', '4.2'], ['15', '70', '0.03'], ['8', '5', '0']]\n",
    "df = pd.DataFrame(a, columns=['one', 'two', 'three'])\n",
    "\n",
    "df['compare'] = np.where((data['date'] == raw_data['date']) & (data['date'] <= df['three'])\n",
    "                     , df['one'], np.nan)"
   ]
  },
  {
   "cell_type": "code",
   "execution_count": null,
   "metadata": {},
   "outputs": [],
   "source": [
    "from difflib import SequenceMatcher\n",
    "SequenceMatcher(None, raw_data.title_tagged, data.title_tagged)\n"
   ]
  },
  {
   "cell_type": "code",
   "execution_count": null,
   "metadata": {},
   "outputs": [],
   "source": [
    "from difflib import SequenceMatcher\n",
    "def similar(a, b):\n",
    "    t=[]\n",
    "    threshold = 0.4\n",
    "    if SequenceMatcher(None, a, b).ratio() > threshold:\n",
    "        t.append(a)\n",
    "    print(t)\n",
    "    return t\n",
    "        \n",
    "#     print(s)\n",
    "#     return s"
   ]
  },
  {
   "cell_type": "code",
   "execution_count": null,
   "metadata": {
    "scrolled": true
   },
   "outputs": [],
   "source": [
    "for rd in raw_data.title_tagged:\n",
    "    for d in data.title_tagged:\n",
    "        similar(rd, d)"
   ]
  },
  {
   "cell_type": "code",
   "execution_count": null,
   "metadata": {},
   "outputs": [],
   "source": [
    "c =[['무제한', '토론', '끝', '테러', '방지법', '등', '처리'],\n",
    " ['야권', '통합', '국민', '당', '경계', '與', '비판'],\n",
    " ['박지원', '동교동', '국민', '당', '합류'],\n",
    " ['선거법', '지각', '통과', '총선', '준비', '잰걸음'],\n",
    " ['與', '공천', '일정', '신경전'],\n",
    " ['야권', '통합', '金', '安', '정면충돌'],\n",
    " ['친', '박', '김태환', '탈락', '물갈이', '신호탄'],\n",
    " ['야권', '통합', '의총', '국민', '당', '기로'],\n",
    " ['이해관계', '통합', '찬반'],\n",
    " ['야권', '통합', '거부', '총선', '구도', '일', '다야']]\n"
   ]
  },
  {
   "cell_type": "code",
   "execution_count": null,
   "metadata": {},
   "outputs": [],
   "source": [
    "o =[['무제한', '토론', '끝', '테러', '방지법', '등', '처리'],\n",
    " ['야권', '당', '경계', '與', '비판'],\n",
    " ['박지원', '동교동', '국민', '당']]\n",
    "# q = pd.Series(o)\n"
   ]
  },
  {
   "cell_type": "code",
   "execution_count": null,
   "metadata": {},
   "outputs": [],
   "source": [
    "data['제목_mecab'] = pd.Series(y)"
   ]
  },
  {
   "cell_type": "code",
   "execution_count": null,
   "metadata": {},
   "outputs": [],
   "source": [
    "for n in data.제목_refined:\n",
    "\n",
    "\n",
    "data['data_mecab'] = [mecab.nouns(n) for n in data.제목_refined]\n"
   ]
  },
  {
   "cell_type": "code",
   "execution_count": null,
   "metadata": {},
   "outputs": [],
   "source": [
    "data['data_mecab_split'] = data['data_mecab'].str.split()"
   ]
  },
  {
   "cell_type": "code",
   "execution_count": null,
   "metadata": {},
   "outputs": [],
   "source": [
    "# data['제목_splited'] = [set(str(i).split()) for i in data.제목_refined]\n",
    "# raw_data['title_splited'] = [set(str(i).split()) for i in raw_data.title_refined]\n",
    "\n",
    "data['제목_splited'] = [str(i).split() for i in data.제목_refined]\n",
    "raw_data['title_splited'] = [str(i).split() for i in raw_data.title_refined]\n"
   ]
  },
  {
   "cell_type": "code",
   "execution_count": null,
   "metadata": {
    "scrolled": false
   },
   "outputs": [],
   "source": [
    "data_100 = data['제목_splited'][:100] \n",
    "raw_data_100 = raw_data['title_splited'][:100]"
   ]
  },
  {
   "cell_type": "code",
   "execution_count": null,
   "metadata": {},
   "outputs": [],
   "source": [
    "a = [['시간', '유세', '돌입', '군소정당', '총력전'], ['총선', '이틀', '앞', '5대', '관전', '포인트는?'], \n",
    "     ['반드시', '투표', '비', '예보', '변수'], ['與', '과반', '확보', '절실', '투표로', '야당', '심판','컷오프', '내일 발표'],\n",
    "     ['윤상현 막말', '파문…','컷오프', '내일 발표']]\n",
    "\n",
    "\n",
    "# raw_data['title_splited'] = [','.join(str(i).split()) for i in raw_data.title_refined]\n",
    "# raw_data['title_fil'] = [set(str(i).split()) for i in raw_data.title]\n",
    "\n",
    "# [더민주, 여당, 독주, 저지, 수권, 야당, 지지], [국민의당, 미래, 위한, 싸움, 3번, 선택], \n",
    "#      [우리가, 대안, 정당, 존재감, 부각, 총력], [내일, 선택의, 날, 투, 개표, 준비, 완료],\n",
    "#  [투표용지, 손동작, 안, 돼, 인증샷, 주의점], [오후, 6시, 출구조사, 당선, 예상자, 발표]]\n",
    "b = [['시간', '유세', '돌입', '군소정당', '총력전'],['與', '과반', '확보', '절실'], ['심판','컷오프', '내일 발표'],\n",
    "     ['yyyyyyyy','ttttt','wswwewe'],['dwddwdfwfw','gfhfghhth','hytyyhtyhytyh']]\n",
    "\n",
    "    \n",
    "    \n",
    "#     [더민주, 여당, 독주, 저지, 수권, 야당, 지지], [국민의당, 미래, 위한, 싸움, 3번, 선택], \n",
    "#      [우리가, 대안, 정당, 존재감, 부각, 총력],\n"
   ]
  },
  {
   "cell_type": "code",
   "execution_count": null,
   "metadata": {},
   "outputs": [],
   "source": [
    "data['날짜_in'] = data['날짜'].astype('str').str.replace('-', '')\n",
    "# df.to_csv(r'c:\\data\\pandas.txt', header=None, index=None, sep=' ', mode='a')\n",
    "# with open('dates_kbs.txt', 'w') as f:\n",
    "#     f.write(data['날짜_in'].astype(int).values)\n",
    "\n",
    "# data['날짜_in'].astype(int).values"
   ]
  },
  {
   "cell_type": "code",
   "execution_count": null,
   "metadata": {},
   "outputs": [],
   "source": [
    "# import numpy as np\n",
    "# nparray = data['날짜_in'].values\n",
    "# np.savetxt('dates_kbs.txt', nparray, delimiter=\",\")\n",
    "# nparray"
   ]
  },
  {
   "cell_type": "code",
   "execution_count": null,
   "metadata": {},
   "outputs": [],
   "source": [
    "data.날짜_in.to_csv('dates_kbs.csv', header=None, index=None, sep=',')\n",
    "# import numpy as np\n",
    "# np.savetxt('dates_kbs.csv', data.날짜_in.values, fmt='%d')\n",
    "\n",
    "# data.날짜_in.to_csv('date.csv')"
   ]
  },
  {
   "cell_type": "code",
   "execution_count": null,
   "metadata": {},
   "outputs": [],
   "source": [
    "csv_file = '/home/sjham/project/scrapy/MyProject/data_set/dates_kbs.csv'\n",
    "a = pd.read_csv(csv_file, header=None, index_col=None)\n",
    "for i in a.values:\n",
    "    int(i)\n"
   ]
  },
  {
   "cell_type": "code",
   "execution_count": null,
   "metadata": {
    "scrolled": false
   },
   "outputs": [],
   "source": [
    "data=data[:199]"
   ]
  },
  {
   "cell_type": "code",
   "execution_count": null,
   "metadata": {},
   "outputs": [],
   "source": [
    "# data['제목'].dropna(how='any',inplace=True)"
   ]
  },
  {
   "cell_type": "code",
   "execution_count": null,
   "metadata": {},
   "outputs": [],
   "source": []
  },
  {
   "cell_type": "code",
   "execution_count": null,
   "metadata": {
    "scrolled": true
   },
   "outputs": [],
   "source": [
    "# data['제목_splited'] = [','.join(str(i).split()) for i in data.제목_refined]\n",
    "# data['제목_fil'] = [set(str(i).split()) for i in data.제목]\n",
    "\n",
    "# .apply(split()))\n",
    "\n",
    "# for n in data.제목_refined:\n",
    "#     a = mecab.nouns(str(n))\n",
    "    \n",
    "# [len(set(a).intersection(b)) for a, b in zip(df.A, df.B)]    \n",
    "    \n",
    "#     pd.Series([mecab.nouns(n)])"
   ]
  },
  {
   "cell_type": "code",
   "execution_count": null,
   "metadata": {},
   "outputs": [],
   "source": [
    "# for rd in raw_data['title_splited']:\n",
    "#     str(rd)\n",
    "#     for d in data['제목_splited']:\n",
    "#         str(d)\n",
    "#         print(similar(rd, d))\n",
    "        "
   ]
  },
  {
   "cell_type": "code",
   "execution_count": null,
   "metadata": {},
   "outputs": [],
   "source": [
    "filter =[]\n",
    "for rd in data['제목_fil']:\n",
    "    for d in raw_data['title_fil']:\n",
    "        if len(d & rd) > 3:\n",
    "            filter.append(d)\n",
    "            \n",
    "            \n",
    "#             raw_data['filtered'] = d\n",
    "            \n",
    "        \n",
    "        \n",
    "#         raw_data.loc[len(d & rd) > 3, :]\n",
    "#         if len(d & rd) > 3:\n",
    "#             raw_data['title_splited']\n",
    "            "
   ]
  },
  {
   "cell_type": "code",
   "execution_count": null,
   "metadata": {},
   "outputs": [],
   "source": [
    "\n",
    "\n",
    "\n",
    "df1 = pd.DataFrame({'c1': [1, 4, 7], 'c2': [2, 5, 1], 'c3': [3, 1, 1]})\n",
    "df2 = pd.DataFrame({'c4': [1, 4, 7], 'c2': [3, 5, 2], 'c3': [3, 7, 5]})\n",
    "set(df1['c2']).intersection(set(df2['c2']))\n",
    "\n"
   ]
  },
  {
   "cell_type": "code",
   "execution_count": null,
   "metadata": {},
   "outputs": [],
   "source": [
    "df1"
   ]
  },
  {
   "cell_type": "code",
   "execution_count": null,
   "metadata": {},
   "outputs": [],
   "source": [
    "df2"
   ]
  },
  {
   "cell_type": "code",
   "execution_count": null,
   "metadata": {
    "scrolled": true
   },
   "outputs": [],
   "source": [
    "set(raw_data['title_splited'])"
   ]
  },
  {
   "cell_type": "code",
   "execution_count": null,
   "metadata": {},
   "outputs": [],
   "source": [
    "my_list = ['w', 'y', 'u', 'i']\n",
    "\n"
   ]
  },
  {
   "cell_type": "code",
   "execution_count": null,
   "metadata": {},
   "outputs": [],
   "source": [
    "set(map(tuple, my_list))"
   ]
  },
  {
   "cell_type": "code",
   "execution_count": null,
   "metadata": {},
   "outputs": [],
   "source": [
    "sorted(\n",
    "    \n",
    "    set(map(tuple, my_list)), reverse=True)\n",
    "result\n",
    "result = sorted(set(map(tuple, my_list)), reverse=True)\n",
    "result\n"
   ]
  },
  {
   "cell_type": "code",
   "execution_count": null,
   "metadata": {
    "scrolled": false
   },
   "outputs": [],
   "source": [
    "set(raw_data['title_splited']).intersection(set(data['제목_splited']))"
   ]
  },
  {
   "cell_type": "code",
   "execution_count": null,
   "metadata": {},
   "outputs": [],
   "source": [
    "# w=[]\n",
    "# for d in raw_data.title:\n",
    "#     for dd in data.제목:\n",
    "#         if d ==dd:\n",
    "#             w.append(d)\n",
    "            \n",
    "            "
   ]
  },
  {
   "cell_type": "code",
   "execution_count": null,
   "metadata": {},
   "outputs": [],
   "source": [
    "# df_merged = data.merge(raw_data, how='inner', left_on='제목', right_on='title')\n"
   ]
  },
  {
   "cell_type": "code",
   "execution_count": null,
   "metadata": {
    "scrolled": false
   },
   "outputs": [],
   "source": [
    "# df_merged.head()"
   ]
  }
 ],
 "metadata": {
  "kernelspec": {
   "display_name": "nlp",
   "language": "python",
   "name": "nlp"
  },
  "language_info": {
   "codemirror_mode": {
    "name": "ipython",
    "version": 3
   },
   "file_extension": ".py",
   "mimetype": "text/x-python",
   "name": "python",
   "nbconvert_exporter": "python",
   "pygments_lexer": "ipython3",
   "version": "3.6.8"
  }
 },
 "nbformat": 4,
 "nbformat_minor": 2
}
