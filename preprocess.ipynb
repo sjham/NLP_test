{
 "cells": [
  {
   "cell_type": "code",
   "execution_count": null,
   "metadata": {},
   "outputs": [],
   "source": [
    "import os\n",
    "import pandas as pd\n",
    "os.getcwd()\n"
   ]
  },
  {
   "cell_type": "code",
   "execution_count": null,
   "metadata": {},
   "outputs": [],
   "source": [
    "%ls -al"
   ]
  },
  {
   "cell_type": "code",
   "execution_count": null,
   "metadata": {},
   "outputs": [],
   "source": [
    "# os.chdir('/home/sjham/project/nlp/')"
   ]
  },
  {
   "cell_type": "code",
   "execution_count": null,
   "metadata": {
    "scrolled": false
   },
   "outputs": [],
   "source": [
    "from preprocess import *"
   ]
  },
  {
   "cell_type": "code",
   "execution_count": null,
   "metadata": {},
   "outputs": [],
   "source": [
    "# pd.reset_option('display.width')\n",
    "# pd.reset_option('display.expand_frame_repr')\n",
    "pd.set_option('max_colwidth', 999)"
   ]
  },
  {
   "cell_type": "code",
   "execution_count": null,
   "metadata": {
    "scrolled": false
   },
   "outputs": [],
   "source": [
    "# import preprocess \n",
    "# import reader\n",
    "(data1, data2) = read_file('./data_set/broadcast.xlsx', './data_set/kbs_2016,3,2_to_2016,4,30.csv')\n"
   ]
  },
  {
   "cell_type": "code",
   "execution_count": null,
   "metadata": {
    "scrolled": true
   },
   "outputs": [],
   "source": [
    "cleaning_data(data1, data2)"
   ]
  },
  {
   "cell_type": "code",
   "execution_count": null,
   "metadata": {},
   "outputs": [],
   "source": [
    "data1 = data1.dropna(subset=['제목'],axis=0, how='any')\n"
   ]
  },
  {
   "cell_type": "code",
   "execution_count": null,
   "metadata": {},
   "outputs": [],
   "source": [
    "data1.head()"
   ]
  },
  {
   "cell_type": "code",
   "execution_count": null,
   "metadata": {
    "scrolled": true
   },
   "outputs": [],
   "source": [
    "# import tokenizer\n",
    "# data1 = data1['title_tagged']\n",
    "\n",
    "# data1 = data1['title_tagged'].copy()\n",
    "\n",
    "data1['title_tagged'] = data1.loc[:,'title_refined'].apply(ngrams,num_ngram=3)\n",
    "# data1['title_tagged'] = data1['title_refined'].apply(ngrams,num_ngram=3)\n",
    "# data2['title_tagged'] = data2['title_refined'].apply(ngrams,num_ngram=3)\n",
    "\n",
    "\n",
    "# data['title_tagged'] = data['제목'].apply(tagging_morphs)\n",
    "# raw_data['title_tagged'] = raw_data['title'].apply(tagging_morphs)\n",
    "\n",
    "# data['title_tagged'] = data['title_refined'].apply(tagging_nouns)\n",
    "# raw_data['title_tagged'] = raw_data['title_refined'].apply(tagging_nouns)\n",
    "\n",
    "\n",
    "# data['title_tagged'] = data['제목'].apply(tagging_morphs)\n",
    "# raw_data['title_tagged'] = raw_data['title'].apply(tagging_morphs)\n",
    "\n",
    "# data['title_tagged'] = data['title_refined'].apply(tagging_nouns)\n",
    "# raw_data['title_tagged'] = raw_data['title_refined'].apply(tagging_nouns)\n",
    "\n",
    "\n"
   ]
  },
  {
   "cell_type": "code",
   "execution_count": null,
   "metadata": {},
   "outputs": [],
   "source": [
    "raw[0].head()"
   ]
  },
  {
   "cell_type": "code",
   "execution_count": null,
   "metadata": {},
   "outputs": [],
   "source": []
  },
  {
   "cell_type": "code",
   "execution_count": null,
   "metadata": {},
   "outputs": [],
   "source": [
    "%cat reader.py"
   ]
  }
 ],
 "metadata": {
  "kernelspec": {
   "display_name": "nlp",
   "language": "python",
   "name": "nlp"
  },
  "language_info": {
   "codemirror_mode": {
    "name": "ipython",
    "version": 3
   },
   "file_extension": ".py",
   "mimetype": "text/x-python",
   "name": "python",
   "nbconvert_exporter": "python",
   "pygments_lexer": "ipython3",
   "version": "3.6.8"
  }
 },
 "nbformat": 4,
 "nbformat_minor": 2
}
