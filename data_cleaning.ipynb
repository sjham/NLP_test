{
 "cells": [
  {
   "cell_type": "code",
   "execution_count": 3,
   "metadata": {},
   "outputs": [],
   "source": [
    "import pandas as pd\n",
    "import os\n",
    "# import re\n",
    "from IPython.core.interactiveshell import InteractiveShell\n",
    "InteractiveShell.ast_node_interactivity = \"all\""
   ]
  },
  {
   "cell_type": "code",
   "execution_count": 17,
   "metadata": {},
   "outputs": [
    {
     "data": {
      "text/plain": [
       "'/home/sjham/project/NLP_test'"
      ]
     },
     "execution_count": 17,
     "metadata": {},
     "output_type": "execute_result"
    },
    {
     "name": "stdout",
     "output_type": "stream",
     "text": [
      "/home/sjham/project/NLP_test/data_set\n",
      "total 34112\r\n",
      "drwxr-xr-x 3 sjham sjham     4096 Jan 25 10:31 \u001b[0m\u001b[01;34m.\u001b[0m/\r\n",
      "drwxr-xr-x 5 sjham sjham     4096 Jan 25 10:35 \u001b[01;34m..\u001b[0m/\r\n",
      "-rw-r--r-- 1 sjham sjham 34327055 Jan 22 18:56 crawled_data.csv\r\n",
      "drwxr-xr-x 2 sjham sjham     4096 Jan 25 10:30 \u001b[01;34m.ipynb_checkpoints\u001b[0m/\r\n",
      "-rw-rw-r-- 1 sjham sjham   584878 Jan 21 17:29 manual_data.xlsx\r\n"
     ]
    }
   ],
   "source": [
    "os.getcwd()\n",
    "%cd data_set\n",
    "%ls -al\n",
    "\n"
   ]
  },
  {
   "cell_type": "markdown",
   "metadata": {},
   "source": [
    "## Data prepocessing by ham_2019_1"
   ]
  },
  {
   "cell_type": "code",
   "execution_count": 19,
   "metadata": {},
   "outputs": [],
   "source": [
    "manual_data = pd.read_excel('manual_data.xlsx') \n",
    "crawled_data = pd.read_csv('crawled_data.csv')"
   ]
  },
  {
   "cell_type": "code",
   "execution_count": 20,
   "metadata": {
    "scrolled": true
   },
   "outputs": [
    {
     "data": {
      "text/html": [
       "<div>\n",
       "<style scoped>\n",
       "    .dataframe tbody tr th:only-of-type {\n",
       "        vertical-align: middle;\n",
       "    }\n",
       "\n",
       "    .dataframe tbody tr th {\n",
       "        vertical-align: top;\n",
       "    }\n",
       "\n",
       "    .dataframe thead th {\n",
       "        text-align: right;\n",
       "    }\n",
       "</style>\n",
       "<table border=\"1\" class=\"dataframe\">\n",
       "  <thead>\n",
       "    <tr style=\"text-align: right;\">\n",
       "      <th></th>\n",
       "      <th>기사 ID</th>\n",
       "      <th>프로그램</th>\n",
       "      <th>날짜</th>\n",
       "      <th>기사수</th>\n",
       "      <th>순서</th>\n",
       "      <th>길이</th>\n",
       "      <th>제목</th>\n",
       "      <th>성격</th>\n",
       "      <th>형식</th>\n",
       "      <th>사운드바이트</th>\n",
       "      <th>...</th>\n",
       "      <th>가이드14_타언론사비판</th>\n",
       "      <th>가이드15_비과학설명</th>\n",
       "      <th>가이드16_영상_화면</th>\n",
       "      <th>가이드17_영상_웃는</th>\n",
       "      <th>가이드18_영상_지지자</th>\n",
       "      <th>가이드19_영상_클로즈업</th>\n",
       "      <th>가이드20_영상_로우앵글</th>\n",
       "      <th>가이드21_여론조사_절차</th>\n",
       "      <th>가이드22_여론조사_항목</th>\n",
       "      <th>가이드23_여론조사_표본오차</th>\n",
       "    </tr>\n",
       "  </thead>\n",
       "  <tbody>\n",
       "    <tr>\n",
       "      <th>2451</th>\n",
       "      <td>2452</td>\n",
       "      <td>7</td>\n",
       "      <td>2016-04-12 00:00:00</td>\n",
       "      <td>29.0</td>\n",
       "      <td>11</td>\n",
       "      <td>107</td>\n",
       "      <td>투표날 '조심'</td>\n",
       "      <td>1</td>\n",
       "      <td>1</td>\n",
       "      <td>0.0</td>\n",
       "      <td>...</td>\n",
       "      <td>2</td>\n",
       "      <td>2.0</td>\n",
       "      <td>2.0</td>\n",
       "      <td>2.0</td>\n",
       "      <td>2.0</td>\n",
       "      <td>2.0</td>\n",
       "      <td>2.0</td>\n",
       "      <td>3</td>\n",
       "      <td>3.0</td>\n",
       "      <td>3.0</td>\n",
       "    </tr>\n",
       "    <tr>\n",
       "      <th>2452</th>\n",
       "      <td>2453</td>\n",
       "      <td>7</td>\n",
       "      <td>2016-04-12 00:00:00</td>\n",
       "      <td>29.0</td>\n",
       "      <td>12</td>\n",
       "      <td>19</td>\n",
       "      <td>새로운 국회 탄생해야</td>\n",
       "      <td>1</td>\n",
       "      <td>1</td>\n",
       "      <td>0.0</td>\n",
       "      <td>...</td>\n",
       "      <td>2</td>\n",
       "      <td>2.0</td>\n",
       "      <td>2.0</td>\n",
       "      <td>2.0</td>\n",
       "      <td>2.0</td>\n",
       "      <td>2.0</td>\n",
       "      <td>2.0</td>\n",
       "      <td>3</td>\n",
       "      <td>3.0</td>\n",
       "      <td>3.0</td>\n",
       "    </tr>\n",
       "    <tr>\n",
       "      <th>2453</th>\n",
       "      <td>2454</td>\n",
       "      <td>7</td>\n",
       "      <td>2016-04-12 00:00:00</td>\n",
       "      <td>29.0</td>\n",
       "      <td>13</td>\n",
       "      <td>86</td>\n",
       "      <td>MBN선정 승패 가를 20곳…서울</td>\n",
       "      <td>1</td>\n",
       "      <td>1</td>\n",
       "      <td>0.0</td>\n",
       "      <td>...</td>\n",
       "      <td>2</td>\n",
       "      <td>2.0</td>\n",
       "      <td>2.0</td>\n",
       "      <td>2.0</td>\n",
       "      <td>2.0</td>\n",
       "      <td>2.0</td>\n",
       "      <td>2.0</td>\n",
       "      <td>1</td>\n",
       "      <td>2.0</td>\n",
       "      <td>2.0</td>\n",
       "    </tr>\n",
       "    <tr>\n",
       "      <th>2454</th>\n",
       "      <td>2455</td>\n",
       "      <td>7</td>\n",
       "      <td>2016-04-12 00:00:00</td>\n",
       "      <td>29.0</td>\n",
       "      <td>14</td>\n",
       "      <td>94</td>\n",
       "      <td>MBN선정 승패 가를 20곳…수도권</td>\n",
       "      <td>1</td>\n",
       "      <td>1</td>\n",
       "      <td>0.0</td>\n",
       "      <td>...</td>\n",
       "      <td>2</td>\n",
       "      <td>2.0</td>\n",
       "      <td>2.0</td>\n",
       "      <td>2.0</td>\n",
       "      <td>2.0</td>\n",
       "      <td>2.0</td>\n",
       "      <td>2.0</td>\n",
       "      <td>1</td>\n",
       "      <td>2.0</td>\n",
       "      <td>2.0</td>\n",
       "    </tr>\n",
       "    <tr>\n",
       "      <th>2455</th>\n",
       "      <td>2456</td>\n",
       "      <td>7</td>\n",
       "      <td>2016-04-12 00:00:00</td>\n",
       "      <td>29.0</td>\n",
       "      <td>15</td>\n",
       "      <td>107</td>\n",
       "      <td>MBN선정 승패 가를 20곳</td>\n",
       "      <td>1</td>\n",
       "      <td>1</td>\n",
       "      <td>0.0</td>\n",
       "      <td>...</td>\n",
       "      <td>2</td>\n",
       "      <td>2.0</td>\n",
       "      <td>2.0</td>\n",
       "      <td>2.0</td>\n",
       "      <td>2.0</td>\n",
       "      <td>2.0</td>\n",
       "      <td>2.0</td>\n",
       "      <td>1</td>\n",
       "      <td>2.0</td>\n",
       "      <td>2.0</td>\n",
       "    </tr>\n",
       "  </tbody>\n",
       "</table>\n",
       "<p>5 rows × 51 columns</p>\n",
       "</div>"
      ],
      "text/plain": [
       "      기사 ID  프로그램                   날짜   기사수  순서   길이                   제목  \\\n",
       "2451   2452     7  2016-04-12 00:00:00  29.0  11  107             투표날 '조심'   \n",
       "2452   2453     7  2016-04-12 00:00:00  29.0  12   19          새로운 국회 탄생해야   \n",
       "2453   2454     7  2016-04-12 00:00:00  29.0  13   86   MBN선정 승패 가를 20곳…서울   \n",
       "2454   2455     7  2016-04-12 00:00:00  29.0  14   94  MBN선정 승패 가를 20곳…수도권   \n",
       "2455   2456     7  2016-04-12 00:00:00  29.0  15  107      MBN선정 승패 가를 20곳   \n",
       "\n",
       "      성격  형식  사운드바이트       ...         가이드14_타언론사비판  가이드15_비과학설명  가이드16_영상_화면  \\\n",
       "2451   1   1     0.0       ...                    2          2.0          2.0   \n",
       "2452   1   1     0.0       ...                    2          2.0          2.0   \n",
       "2453   1   1     0.0       ...                    2          2.0          2.0   \n",
       "2454   1   1     0.0       ...                    2          2.0          2.0   \n",
       "2455   1   1     0.0       ...                    2          2.0          2.0   \n",
       "\n",
       "     가이드17_영상_웃는  가이드18_영상_지지자  가이드19_영상_클로즈업  가이드20_영상_로우앵글  가이드21_여론조사_절차  \\\n",
       "2451         2.0           2.0            2.0            2.0              3   \n",
       "2452         2.0           2.0            2.0            2.0              3   \n",
       "2453         2.0           2.0            2.0            2.0              1   \n",
       "2454         2.0           2.0            2.0            2.0              1   \n",
       "2455         2.0           2.0            2.0            2.0              1   \n",
       "\n",
       "      가이드22_여론조사_항목  가이드23_여론조사_표본오차  \n",
       "2451            3.0              3.0  \n",
       "2452            3.0              3.0  \n",
       "2453            2.0              2.0  \n",
       "2454            2.0              2.0  \n",
       "2455            2.0              2.0  \n",
       "\n",
       "[5 rows x 51 columns]"
      ]
     },
     "execution_count": 20,
     "metadata": {},
     "output_type": "execute_result"
    },
    {
     "data": {
      "text/html": [
       "<div>\n",
       "<style scoped>\n",
       "    .dataframe tbody tr th:only-of-type {\n",
       "        vertical-align: middle;\n",
       "    }\n",
       "\n",
       "    .dataframe tbody tr th {\n",
       "        vertical-align: top;\n",
       "    }\n",
       "\n",
       "    .dataframe thead th {\n",
       "        text-align: right;\n",
       "    }\n",
       "</style>\n",
       "<table border=\"1\" class=\"dataframe\">\n",
       "  <thead>\n",
       "    <tr style=\"text-align: right;\">\n",
       "      <th></th>\n",
       "      <th>title</th>\n",
       "      <th>source</th>\n",
       "      <th>date</th>\n",
       "      <th>tomain</th>\n",
       "      <th>reaction</th>\n",
       "      <th>articleText</th>\n",
       "    </tr>\n",
       "  </thead>\n",
       "  <tbody>\n",
       "    <tr>\n",
       "      <th>0</th>\n",
       "      <td>차량에 불…50대 운전자 숨져</td>\n",
       "      <td>KBS</td>\n",
       "      <td>2016.03.02 17:57</td>\n",
       "      <td>NaN</td>\n",
       "      <td>NaN</td>\n",
       "      <td>오늘 오후 3시쯤, 강원도 평창군 대화면에서  50살 안 모 씨가 몰던 승...</td>\n",
       "    </tr>\n",
       "    <tr>\n",
       "      <th>1</th>\n",
       "      <td>두고 내린 스마트폰 팔아넘긴 택시기사 등 검거</td>\n",
       "      <td>KBS</td>\n",
       "      <td>2016.03.02 17:59</td>\n",
       "      <td>NaN</td>\n",
       "      <td>NaN</td>\n",
       "      <td>대전 동부경찰서는 손님이 택시에 놓고 내린 스마트폰을 사들인 혐의로  장물...</td>\n",
       "    </tr>\n",
       "    <tr>\n",
       "      <th>2</th>\n",
       "      <td>안철수·천정배 대표, 박지원 의원 찾아가 회동 중</td>\n",
       "      <td>KBS</td>\n",
       "      <td>2016.03.02 18:11</td>\n",
       "      <td>NaN</td>\n",
       "      <td>NaN</td>\n",
       "      <td>국민의당 안철수, 천정배 대표가  무소속 박지원 의원을 만나  국민의당 입...</td>\n",
       "    </tr>\n",
       "    <tr>\n",
       "      <th>3</th>\n",
       "      <td>이재현 회장, (주)CJ…CJ제일제당 등기이사 사퇴</td>\n",
       "      <td>KBS</td>\n",
       "      <td>2016.03.02 18:11</td>\n",
       "      <td>NaN</td>\n",
       "      <td>NaN</td>\n",
       "      <td>이재현 CJ그룹 회장이 CJ주식회사와 CJ제일제당의 등기 이사직에서 사퇴합...</td>\n",
       "    </tr>\n",
       "    <tr>\n",
       "      <th>4</th>\n",
       "      <td>한수원, UAE 원전 1호기 인력파견계약 체결</td>\n",
       "      <td>KBS</td>\n",
       "      <td>2016.03.02 18:13</td>\n",
       "      <td>NaN</td>\n",
       "      <td>NaN</td>\n",
       "      <td>한국수력원자력은 아랍에미리트에 건설 중인 한국형 원전 4기 가운데 내년 5...</td>\n",
       "    </tr>\n",
       "  </tbody>\n",
       "</table>\n",
       "</div>"
      ],
      "text/plain": [
       "                          title source              date  tomain  reaction  \\\n",
       "0              차량에 불…50대 운전자 숨져    KBS  2016.03.02 17:57     NaN       NaN   \n",
       "1     두고 내린 스마트폰 팔아넘긴 택시기사 등 검거    KBS  2016.03.02 17:59     NaN       NaN   \n",
       "2   안철수·천정배 대표, 박지원 의원 찾아가 회동 중    KBS  2016.03.02 18:11     NaN       NaN   \n",
       "3  이재현 회장, (주)CJ…CJ제일제당 등기이사 사퇴    KBS  2016.03.02 18:11     NaN       NaN   \n",
       "4     한수원, UAE 원전 1호기 인력파견계약 체결    KBS  2016.03.02 18:13     NaN       NaN   \n",
       "\n",
       "                                         articleText  \n",
       "0       오늘 오후 3시쯤, 강원도 평창군 대화면에서  50살 안 모 씨가 몰던 승...  \n",
       "1       대전 동부경찰서는 손님이 택시에 놓고 내린 스마트폰을 사들인 혐의로  장물...  \n",
       "2       국민의당 안철수, 천정배 대표가  무소속 박지원 의원을 만나  국민의당 입...  \n",
       "3       이재현 CJ그룹 회장이 CJ주식회사와 CJ제일제당의 등기 이사직에서 사퇴합...  \n",
       "4       한국수력원자력은 아랍에미리트에 건설 중인 한국형 원전 4기 가운데 내년 5...  "
      ]
     },
     "execution_count": 20,
     "metadata": {},
     "output_type": "execute_result"
    }
   ],
   "source": [
    "data.tail()\n",
    "raw_data.head()"
   ]
  },
  {
   "cell_type": "code",
   "execution_count": null,
   "metadata": {
    "scrolled": true
   },
   "outputs": [],
   "source": [
    "raw_data['date'] = pd.to_datetime(raw_data['date'])"
   ]
  },
  {
   "cell_type": "code",
   "execution_count": null,
   "metadata": {},
   "outputs": [],
   "source": [
    "raw_data['date'] = raw_data['date'].dt.date"
   ]
  },
  {
   "cell_type": "code",
   "execution_count": null,
   "metadata": {
    "scrolled": true
   },
   "outputs": [],
   "source": [
    "raw_data['date']"
   ]
  },
  {
   "cell_type": "code",
   "execution_count": null,
   "metadata": {
    "scrolled": true
   },
   "outputs": [],
   "source": [
    "data['date'] = '2016.' + data['date'].astype(str)\n",
    "data['date']"
   ]
  },
  {
   "cell_type": "code",
   "execution_count": null,
   "metadata": {
    "scrolled": true
   },
   "outputs": [],
   "source": [
    "data['date'] = data['date'].str.replace('/', '.').str.replace('-', '.')\n",
    " "
   ]
  },
  {
   "cell_type": "code",
   "execution_count": null,
   "metadata": {},
   "outputs": [],
   "source": [
    "data['date']= pd.to_datetime(data['date'])"
   ]
  },
  {
   "cell_type": "code",
   "execution_count": null,
   "metadata": {},
   "outputs": [],
   "source": [
    "data.head()\n",
    "raw_data.head()"
   ]
  },
  {
   "cell_type": "code",
   "execution_count": null,
   "metadata": {
    "scrolled": true
   },
   "outputs": [],
   "source": [
    "data['title_refined'] = data.title.str.replace(r'[/W\\”\\“\\‘\\,\\’\\\"\\'\\.\\∙\\…\\[\\]\\(\\)]+', \" \")\n",
    "raw_data['title_refined']= raw_data.title.str.replace(r'[/W\\”\\“\\‘\\,\\’\\\"\\'\\.\\∙\\…\\[\\]\\(\\)]+', \" \")"
   ]
  },
  {
   "cell_type": "code",
   "execution_count": null,
   "metadata": {},
   "outputs": [],
   "source": [
    "data['title_refined'] = data['title_refined'].str.strip()\n",
    "raw_data['title_refined'] = raw_data['title_refined'].str.strip()"
   ]
  },
  {
   "cell_type": "code",
   "execution_count": null,
   "metadata": {
    "scrolled": true
   },
   "outputs": [],
   "source": [
    "data.isnull().sum()\n",
    "raw_data.isnull().sum()"
   ]
  },
  {
   "cell_type": "code",
   "execution_count": null,
   "metadata": {},
   "outputs": [],
   "source": [
    "data.head()"
   ]
  },
  {
   "cell_type": "code",
   "execution_count": null,
   "metadata": {},
   "outputs": [],
   "source": [
    "data.drop('title',axis=1, inplace=True)"
   ]
  },
  {
   "cell_type": "code",
   "execution_count": null,
   "metadata": {},
   "outputs": [],
   "source": [
    "data.isnull().sum()"
   ]
  },
  {
   "cell_type": "code",
   "execution_count": null,
   "metadata": {},
   "outputs": [],
   "source": [
    "data = data.dropna(subset=['title_refined'],axis=0, how='any')"
   ]
  },
  {
   "cell_type": "code",
   "execution_count": null,
   "metadata": {
    "scrolled": false
   },
   "outputs": [],
   "source": [
    "data.isnull().sum()"
   ]
  },
  {
   "cell_type": "code",
   "execution_count": null,
   "metadata": {},
   "outputs": [],
   "source": [
    "# def ngrams(string, n=3):\n",
    "# #     string = re.sub(r'[,-./]|\\sBD',r'', string)\n",
    "#     ngrams = zip(*[string[i:] for i in range(n)])\n",
    "#     return [''.join(ngram) for ngram in ngrams]"
   ]
  },
  {
   "cell_type": "code",
   "execution_count": null,
   "metadata": {},
   "outputs": [],
   "source": [
    "from konlpy.tag import Mecab\n",
    "mecab = Mecab()\n",
    "def tagging(x):\n",
    "    return mecab.nouns(x)\n",
    "#     return x+'1'\n",
    "    "
   ]
  },
  {
   "cell_type": "code",
   "execution_count": null,
   "metadata": {
    "scrolled": true
   },
   "outputs": [],
   "source": [
    "data['title_tagged'] = data['title_refined'].apply(tagging)"
   ]
  },
  {
   "cell_type": "code",
   "execution_count": null,
   "metadata": {
    "scrolled": true
   },
   "outputs": [],
   "source": [
    "data['title_set']= [set(item) for item in data['title_tagged']]"
   ]
  },
  {
   "cell_type": "code",
   "execution_count": null,
   "metadata": {},
   "outputs": [],
   "source": [
    "raw_data.drop('title', axis=1, inplace=True)"
   ]
  },
  {
   "cell_type": "code",
   "execution_count": null,
   "metadata": {},
   "outputs": [],
   "source": [
    "raw_data['title_tagged'] = raw_data['title_refined'].apply(tagging)"
   ]
  },
  {
   "cell_type": "code",
   "execution_count": null,
   "metadata": {},
   "outputs": [],
   "source": [
    "raw_data['title_set']= [set(item) for item in raw_data['title_tagged']]"
   ]
  },
  {
   "cell_type": "code",
   "execution_count": null,
   "metadata": {
    "scrolled": false
   },
   "outputs": [],
   "source": [
    "raw_data['title_set']"
   ]
  },
  {
   "cell_type": "code",
   "execution_count": null,
   "metadata": {
    "scrolled": false
   },
   "outputs": [],
   "source": [
    "data['title_set']"
   ]
  },
  {
   "cell_type": "code",
   "execution_count": null,
   "metadata": {},
   "outputs": [],
   "source": []
  },
  {
   "cell_type": "code",
   "execution_count": null,
   "metadata": {
    "scrolled": true
   },
   "outputs": [],
   "source": [
    "data.head()"
   ]
  },
  {
   "cell_type": "code",
   "execution_count": null,
   "metadata": {
    "scrolled": true
   },
   "outputs": [],
   "source": [
    "data.title_tagged"
   ]
  },
  {
   "cell_type": "code",
   "execution_count": null,
   "metadata": {},
   "outputs": [],
   "source": [
    "raw_data.title_tagged"
   ]
  },
  {
   "cell_type": "code",
   "execution_count": null,
   "metadata": {},
   "outputs": [],
   "source": [
    "for d in data1['title_tagged']:\n",
    "    for r in raw_data1['title_tagged']:\n",
    "        set(d).intersection(set(r))\n",
    "        \n",
    "# for u in t:\n",
    "#     if len(u) > 1:\n",
    "#         raw_data1['filtered']= u\n",
    "        \n",
    "    \n",
    "        \n",
    "#         a = set(d).intersection(set(r))\n",
    "        \n",
    "                            \n",
    "#         if len(set(d).intersection(set(r)))> 1:\n",
    "#             raw_data1['filtered']=\n",
    "            \n",
    "    \n",
    "    \n",
    "    "
   ]
  },
  {
   "cell_type": "code",
   "execution_count": null,
   "metadata": {},
   "outputs": [],
   "source": [
    "raw_data['title_tagged'].apply(inter)"
   ]
  },
  {
   "cell_type": "code",
   "execution_count": null,
   "metadata": {
    "scrolled": true
   },
   "outputs": [],
   "source": [
    "for d in data1['title_tagged']:\n",
    "    for r in raw_data1['title_tagged']:\n",
    "        if len(set(d).intersection(set(r)))> 1:\n",
    "            raw_data1['filtered'] = r\n",
    "            \n",
    "    \n",
    "#         raw_data['filtered'] = set(data).intersection(set(data1))\n",
    "\n",
    "#         #             raw_data['filtered'] = data\n",
    "        \n",
    "        \n",
    "        \n",
    "        \n",
    "#         if len(data.intersection(data1)) > 3:\n",
    "#             raw_data['filtered'] = data\n",
    "            \n",
    "#             .intersection(data1)\n",
    "        \n",
    "#         if len() > 3:\n",
    "#             raw_data['filtered'] = data\n",
    "            \n",
    "            \n",
    "        \n",
    "        "
   ]
  },
  {
   "cell_type": "code",
   "execution_count": null,
   "metadata": {},
   "outputs": [],
   "source": [
    "raw_data1.head()"
   ]
  },
  {
   "cell_type": "code",
   "execution_count": null,
   "metadata": {},
   "outputs": [],
   "source": [
    "a = set(['위반', '차량', '암행', '단속', '시작'])\n",
    "b = set(['무제한', '위반', '토론', '끝', '테러', '방지법', '등', '처리'])\n",
    "matched = a.intersection(b)\n",
    "print(matched)"
   ]
  },
  {
   "cell_type": "code",
   "execution_count": null,
   "metadata": {
    "scrolled": true
   },
   "outputs": [],
   "source": [
    "data.head()"
   ]
  },
  {
   "cell_type": "code",
   "execution_count": null,
   "metadata": {
    "scrolled": false
   },
   "outputs": [],
   "source": [
    "raw_data.head()"
   ]
  },
  {
   "cell_type": "code",
   "execution_count": null,
   "metadata": {},
   "outputs": [],
   "source": [
    "data['제목_splited'] = [set(str(i).split()) for i in data.제목_refined]\n",
    "raw_data['title_splited'] = [set(str(i).split()) for i in raw_data.title_refined]\n"
   ]
  },
  {
   "cell_type": "code",
   "execution_count": null,
   "metadata": {},
   "outputs": [],
   "source": [
    "matched = set1.intersection(set2)\n",
    "\n",
    "import numpy as np\n",
    "import pandas as pd\n",
    "\n",
    "a = [['10', '1.2', '4.2'], ['15', '70', '0.03'], ['8', '5', '0']]\n",
    "df = pd.DataFrame(a, columns=['one', 'two', 'three'])\n",
    "\n",
    "df['compare'] = np.where((data['date'] == raw_data['date']) & (data['date'] <= df['three'])\n",
    "                     , df['one'], np.nan)"
   ]
  },
  {
   "cell_type": "code",
   "execution_count": null,
   "metadata": {},
   "outputs": [],
   "source": [
    "from difflib import SequenceMatcher\n",
    "SequenceMatcher(None, raw_data.title_tagged, data.title_tagged)\n"
   ]
  },
  {
   "cell_type": "code",
   "execution_count": null,
   "metadata": {},
   "outputs": [],
   "source": [
    "from difflib import SequenceMatcher\n",
    "def similar(a, b):\n",
    "    t=[]\n",
    "    threshold = 0.4\n",
    "    if SequenceMatcher(None, a, b).ratio() > threshold:\n",
    "        t.append(a)\n",
    "    print(t)\n",
    "    return t\n",
    "        \n",
    "#     print(s)\n",
    "#     return s"
   ]
  },
  {
   "cell_type": "code",
   "execution_count": null,
   "metadata": {
    "scrolled": true
   },
   "outputs": [],
   "source": [
    "for rd in raw_data.title_tagged:\n",
    "    for d in data.title_tagged:\n",
    "        similar(rd, d)"
   ]
  },
  {
   "cell_type": "code",
   "execution_count": null,
   "metadata": {},
   "outputs": [],
   "source": [
    "c =[['무제한', '토론', '끝', '테러', '방지법', '등', '처리'],\n",
    " ['야권', '통합', '국민', '당', '경계', '與', '비판'],\n",
    " ['박지원', '동교동', '국민', '당', '합류'],\n",
    " ['선거법', '지각', '통과', '총선', '준비', '잰걸음'],\n",
    " ['與', '공천', '일정', '신경전'],\n",
    " ['야권', '통합', '金', '安', '정면충돌'],\n",
    " ['친', '박', '김태환', '탈락', '물갈이', '신호탄'],\n",
    " ['야권', '통합', '의총', '국민', '당', '기로'],\n",
    " ['이해관계', '통합', '찬반'],\n",
    " ['야권', '통합', '거부', '총선', '구도', '일', '다야']]\n"
   ]
  },
  {
   "cell_type": "code",
   "execution_count": null,
   "metadata": {},
   "outputs": [],
   "source": [
    "o =[['무제한', '토론', '끝', '테러', '방지법', '등', '처리'],\n",
    " ['야권', '당', '경계', '與', '비판'],\n",
    " ['박지원', '동교동', '국민', '당']]\n",
    "# q = pd.Series(o)\n"
   ]
  },
  {
   "cell_type": "code",
   "execution_count": null,
   "metadata": {},
   "outputs": [],
   "source": [
    "data['제목_mecab'] = pd.Series(y)"
   ]
  },
  {
   "cell_type": "code",
   "execution_count": null,
   "metadata": {},
   "outputs": [],
   "source": [
    "for n in data.제목_refined:\n",
    "\n",
    "\n",
    "data['data_mecab'] = [mecab.nouns(n) for n in data.제목_refined]\n"
   ]
  },
  {
   "cell_type": "code",
   "execution_count": null,
   "metadata": {},
   "outputs": [],
   "source": [
    "data['data_mecab_split'] = data['data_mecab'].str.split()"
   ]
  },
  {
   "cell_type": "code",
   "execution_count": null,
   "metadata": {},
   "outputs": [],
   "source": [
    "# data['제목_splited'] = [set(str(i).split()) for i in data.제목_refined]\n",
    "# raw_data['title_splited'] = [set(str(i).split()) for i in raw_data.title_refined]\n",
    "\n",
    "data['제목_splited'] = [str(i).split() for i in data.제목_refined]\n",
    "raw_data['title_splited'] = [str(i).split() for i in raw_data.title_refined]\n"
   ]
  },
  {
   "cell_type": "code",
   "execution_count": null,
   "metadata": {
    "scrolled": false
   },
   "outputs": [],
   "source": [
    "data_100 = data['제목_splited'][:100] \n",
    "raw_data_100 = raw_data['title_splited'][:100]"
   ]
  },
  {
   "cell_type": "code",
   "execution_count": null,
   "metadata": {},
   "outputs": [],
   "source": [
    "a = [['시간', '유세', '돌입', '군소정당', '총력전'], ['총선', '이틀', '앞', '5대', '관전', '포인트는?'], \n",
    "     ['반드시', '투표', '비', '예보', '변수'], ['與', '과반', '확보', '절실', '투표로', '야당', '심판','컷오프', '내일 발표'],\n",
    "     ['윤상현 막말', '파문…','컷오프', '내일 발표']]\n",
    "\n",
    "\n",
    "# raw_data['title_splited'] = [','.join(str(i).split()) for i in raw_data.title_refined]\n",
    "# raw_data['title_fil'] = [set(str(i).split()) for i in raw_data.title]\n",
    "\n",
    "# [더민주, 여당, 독주, 저지, 수권, 야당, 지지], [국민의당, 미래, 위한, 싸움, 3번, 선택], \n",
    "#      [우리가, 대안, 정당, 존재감, 부각, 총력], [내일, 선택의, 날, 투, 개표, 준비, 완료],\n",
    "#  [투표용지, 손동작, 안, 돼, 인증샷, 주의점], [오후, 6시, 출구조사, 당선, 예상자, 발표]]\n",
    "b = [['시간', '유세', '돌입', '군소정당', '총력전'],['與', '과반', '확보', '절실'], ['심판','컷오프', '내일 발표'],\n",
    "     ['yyyyyyyy','ttttt','wswwewe'],['dwddwdfwfw','gfhfghhth','hytyyhtyhytyh']]\n",
    "\n",
    "    \n",
    "    \n",
    "#     [더민주, 여당, 독주, 저지, 수권, 야당, 지지], [국민의당, 미래, 위한, 싸움, 3번, 선택], \n",
    "#      [우리가, 대안, 정당, 존재감, 부각, 총력],\n"
   ]
  },
  {
   "cell_type": "code",
   "execution_count": null,
   "metadata": {},
   "outputs": [],
   "source": [
    "data['날짜_in'] = data['날짜'].astype('str').str.replace('-', '')\n",
    "# df.to_csv(r'c:\\data\\pandas.txt', header=None, index=None, sep=' ', mode='a')\n",
    "# with open('dates_kbs.txt', 'w') as f:\n",
    "#     f.write(data['날짜_in'].astype(int).values)\n",
    "\n",
    "# data['날짜_in'].astype(int).values"
   ]
  },
  {
   "cell_type": "code",
   "execution_count": null,
   "metadata": {},
   "outputs": [],
   "source": [
    "# import numpy as np\n",
    "# nparray = data['날짜_in'].values\n",
    "# np.savetxt('dates_kbs.txt', nparray, delimiter=\",\")\n",
    "# nparray"
   ]
  },
  {
   "cell_type": "code",
   "execution_count": null,
   "metadata": {},
   "outputs": [],
   "source": [
    "data.날짜_in.to_csv('dates_kbs.csv', header=None, index=None, sep=',')\n",
    "# import numpy as np\n",
    "# np.savetxt('dates_kbs.csv', data.날짜_in.values, fmt='%d')\n",
    "\n",
    "# data.날짜_in.to_csv('date.csv')"
   ]
  },
  {
   "cell_type": "code",
   "execution_count": null,
   "metadata": {},
   "outputs": [],
   "source": [
    "csv_file = '/home/sjham/project/scrapy/MyProject/data_set/dates_kbs.csv'\n",
    "a = pd.read_csv(csv_file, header=None, index_col=None)\n",
    "for i in a.values:\n",
    "    int(i)\n"
   ]
  },
  {
   "cell_type": "code",
   "execution_count": null,
   "metadata": {
    "scrolled": false
   },
   "outputs": [],
   "source": [
    "data=data[:199]"
   ]
  },
  {
   "cell_type": "code",
   "execution_count": null,
   "metadata": {},
   "outputs": [],
   "source": [
    "# data['제목'].dropna(how='any',inplace=True)"
   ]
  },
  {
   "cell_type": "code",
   "execution_count": null,
   "metadata": {},
   "outputs": [],
   "source": []
  },
  {
   "cell_type": "code",
   "execution_count": null,
   "metadata": {
    "scrolled": true
   },
   "outputs": [],
   "source": [
    "# data['제목_splited'] = [','.join(str(i).split()) for i in data.제목_refined]\n",
    "# data['제목_fil'] = [set(str(i).split()) for i in data.제목]\n",
    "\n",
    "# .apply(split()))\n",
    "\n",
    "# for n in data.제목_refined:\n",
    "#     a = mecab.nouns(str(n))\n",
    "    \n",
    "# [len(set(a).intersection(b)) for a, b in zip(df.A, df.B)]    \n",
    "    \n",
    "#     pd.Series([mecab.nouns(n)])"
   ]
  },
  {
   "cell_type": "code",
   "execution_count": null,
   "metadata": {},
   "outputs": [],
   "source": [
    "# for rd in raw_data['title_splited']:\n",
    "#     str(rd)\n",
    "#     for d in data['제목_splited']:\n",
    "#         str(d)\n",
    "#         print(similar(rd, d))\n",
    "        "
   ]
  },
  {
   "cell_type": "code",
   "execution_count": null,
   "metadata": {},
   "outputs": [],
   "source": [
    "filter =[]\n",
    "for rd in data['제목_fil']:\n",
    "    for d in raw_data['title_fil']:\n",
    "        if len(d & rd) > 3:\n",
    "            filter.append(d)\n",
    "            \n",
    "            \n",
    "#             raw_data['filtered'] = d\n",
    "            \n",
    "        \n",
    "        \n",
    "#         raw_data.loc[len(d & rd) > 3, :]\n",
    "#         if len(d & rd) > 3:\n",
    "#             raw_data['title_splited']\n",
    "            "
   ]
  },
  {
   "cell_type": "code",
   "execution_count": null,
   "metadata": {},
   "outputs": [],
   "source": [
    "\n",
    "\n",
    "\n",
    "df1 = pd.DataFrame({'c1': [1, 4, 7], 'c2': [2, 5, 1], 'c3': [3, 1, 1]})\n",
    "df2 = pd.DataFrame({'c4': [1, 4, 7], 'c2': [3, 5, 2], 'c3': [3, 7, 5]})\n",
    "set(df1['c2']).intersection(set(df2['c2']))\n",
    "\n"
   ]
  },
  {
   "cell_type": "code",
   "execution_count": null,
   "metadata": {},
   "outputs": [],
   "source": [
    "df1"
   ]
  },
  {
   "cell_type": "code",
   "execution_count": null,
   "metadata": {},
   "outputs": [],
   "source": [
    "df2"
   ]
  },
  {
   "cell_type": "code",
   "execution_count": null,
   "metadata": {
    "scrolled": true
   },
   "outputs": [],
   "source": [
    "set(raw_data['title_splited'])"
   ]
  },
  {
   "cell_type": "code",
   "execution_count": null,
   "metadata": {},
   "outputs": [],
   "source": [
    "my_list = ['w', 'y', 'u', 'i']\n",
    "\n"
   ]
  },
  {
   "cell_type": "code",
   "execution_count": null,
   "metadata": {},
   "outputs": [],
   "source": [
    "set(map(tuple, my_list))"
   ]
  },
  {
   "cell_type": "code",
   "execution_count": null,
   "metadata": {},
   "outputs": [],
   "source": [
    "sorted(\n",
    "    \n",
    "    set(map(tuple, my_list)), reverse=True)\n",
    "result\n",
    "result = sorted(set(map(tuple, my_list)), reverse=True)\n",
    "result\n"
   ]
  },
  {
   "cell_type": "code",
   "execution_count": null,
   "metadata": {
    "scrolled": false
   },
   "outputs": [],
   "source": [
    "set(raw_data['title_splited']).intersection(set(data['제목_splited']))"
   ]
  },
  {
   "cell_type": "code",
   "execution_count": null,
   "metadata": {},
   "outputs": [],
   "source": [
    "# w=[]\n",
    "# for d in raw_data.title:\n",
    "#     for dd in data.제목:\n",
    "#         if d ==dd:\n",
    "#             w.append(d)\n",
    "            \n",
    "            "
   ]
  },
  {
   "cell_type": "code",
   "execution_count": null,
   "metadata": {},
   "outputs": [],
   "source": [
    "# df_merged = data.merge(raw_data, how='inner', left_on='제목', right_on='title')\n"
   ]
  },
  {
   "cell_type": "code",
   "execution_count": null,
   "metadata": {
    "scrolled": false
   },
   "outputs": [],
   "source": [
    "# df_merged.head()"
   ]
  }
 ],
 "metadata": {
  "kernelspec": {
   "display_name": "nlp",
   "language": "python",
   "name": "nlp"
  },
  "language_info": {
   "codemirror_mode": {
    "name": "ipython",
    "version": 3
   },
   "file_extension": ".py",
   "mimetype": "text/x-python",
   "name": "python",
   "nbconvert_exporter": "python",
   "pygments_lexer": "ipython3",
   "version": "3.6.8"
  }
 },
 "nbformat": 4,
 "nbformat_minor": 2
}
